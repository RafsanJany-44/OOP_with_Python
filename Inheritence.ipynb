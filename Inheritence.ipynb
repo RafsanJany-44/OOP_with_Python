{
  "nbformat": 4,
  "nbformat_minor": 0,
  "metadata": {
    "colab": {
      "name": "Inheritence.ipynb",
      "provenance": [],
      "authorship_tag": "ABX9TyNDef2HcNPsSs3h8GO1qDGR",
      "include_colab_link": true
    },
    "kernelspec": {
      "name": "python3",
      "display_name": "Python 3"
    },
    "language_info": {
      "name": "python"
    }
  },
  "cells": [
    {
      "cell_type": "markdown",
      "metadata": {
        "id": "view-in-github",
        "colab_type": "text"
      },
      "source": [
        "<a href=\"https://colab.research.google.com/github/RafsanJany-44/OOP_with_Python/blob/master/Inheritence.ipynb\" target=\"_parent\"><img src=\"https://colab.research.google.com/assets/colab-badge.svg\" alt=\"Open In Colab\"/></a>"
      ]
    },
    {
      "cell_type": "markdown",
      "source": [
        "Task – 2\n",
        "<br>x and y coordinates (both are integers). The vehicle gets manufactured (constructed) at\n",
        "(0, 0) coordinate.\n",
        "Subtasks:\n",
        "1. Design a Vehicle2010 class which inherits movement methods from Vehicle\n",
        "and adds new methods called move UpperRight, UpperLeft, LowerRight,\n",
        "LowerLeft. Each of these diagonal move methods must re-use two inherited and\n",
        "appropriate move methods.\n",
        "2. Write an “equals” method which tests if significant class properties are the\n",
        "same (in this case x and y).\n",
        "Note: All moves are 1 step. That means a single call to any move method changes\n",
        "value of either x or y or both by 1."
      ],
      "metadata": {
        "id": "q7FSmF3dbYr9"
      }
    },
    {
      "cell_type": "code",
      "execution_count": null,
      "metadata": {
        "id": "eFsYOgBZa06q"
      },
      "outputs": [],
      "source": [
        "class Vehicle:\n",
        "  def __init__(self):\n",
        "  self.x = 0\n",
        "  self.y = 0\n",
        "  def moveUp(self):\n",
        "  self.y+=1\n",
        "  def moveDown(self):\n",
        "  self.y-=1\n",
        "  def moveRight(self):\n",
        "  self.x+=1\n",
        "  def moveLeft(self):\n",
        "  self.x-=1\n",
        "  def __str__(self):\n",
        "  return '('+str(self.x)+' , '+str(self.y)+')'\n",
        "\n",
        "\n",
        "\n",
        "print('Part 1')\n",
        "print('------')\n",
        "car = Vehicle()\n",
        "print(car)\n",
        "car.moveUp()\n",
        "print(car)\n",
        "car.moveLeft()\n",
        "print(car)\n",
        "car.moveDown()\n",
        "print(car)\n",
        "car.moveRight()\n",
        "print(car)\n",
        "print('------')\n",
        "print('Part 2')\n",
        "print('------')\n",
        "car1 = Vehicle2010()\n",
        "print(car1)\n",
        "car1.moveLowerLeft()\n",
        "print(car1)\n",
        "car2 = Vehicle2010()\n",
        "car2.moveLeft()\n",
        "print(car1.equals(car2))\n",
        "car2.moveDown()\n",
        "print(car1.equals(car2))\n",
        "\n"
      ]
    }
  ]
}