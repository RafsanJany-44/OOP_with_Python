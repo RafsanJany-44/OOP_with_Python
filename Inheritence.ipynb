{
  "nbformat": 4,
  "nbformat_minor": 0,
  "metadata": {
    "colab": {
      "name": "Inheritence.ipynb",
      "provenance": [],
      "authorship_tag": "ABX9TyP0vx2n9522FR0mgJJj6y1t",
      "include_colab_link": true
    },
    "kernelspec": {
      "name": "python3",
      "display_name": "Python 3"
    },
    "language_info": {
      "name": "python"
    }
  },
  "cells": [
    {
      "cell_type": "markdown",
      "metadata": {
        "id": "view-in-github",
        "colab_type": "text"
      },
      "source": [
        "<a href=\"https://colab.research.google.com/github/RafsanJany-44/OOP_with_Python/blob/master/Inheritence.ipynb\" target=\"_parent\"><img src=\"https://colab.research.google.com/assets/colab-badge.svg\" alt=\"Open In Colab\"/></a>"
      ]
    },
    {
      "cell_type": "markdown",
      "source": [
        "Task-1\n"
      ],
      "metadata": {
        "id": "NK2GocUnQnqv"
      }
    },
    {
      "cell_type": "code",
      "source": [
        "class Student:\n",
        "    def __init__(self, name='Just a student', dept='nothing'):\n",
        "        self.__name = name\n",
        "        self.__department = dept\n",
        "    def set_department(self, dept):\n",
        "        self.__department = dept\n",
        "    def get_name(self):\n",
        "        return self.__name\n",
        "    def set_name(self,name):\n",
        "        self.__name = name\n",
        "    def __str__(self):\n",
        "        return 'Name: '+self.__name+' Department: '+self.__department\n",
        "\n",
        "\n",
        "#write your code here\n",
        "class  BBA_Student(Student):\n",
        "  def __init__(self,name=\"default\",dept=\"BBA\"):\n",
        "    super().set_name(name)\n",
        "    super().set_department(dept)\n",
        "\n",
        "print(BBA_Student())\n",
        "print(BBA_Student('Humpty Dumpty'))\n",
        "print(BBA_Student('Little Bo Peep'))"
      ],
      "metadata": {
        "colab": {
          "base_uri": "https://localhost:8080/"
        },
        "id": "9jUnWvXjQpvM",
        "outputId": "665ce081-35ec-4ea1-8b22-e0703dd7a0fe"
      },
      "execution_count": null,
      "outputs": [
        {
          "output_type": "stream",
          "name": "stdout",
          "text": [
            "Name: default Department: BBA\n",
            "Name: Humpty Dumpty Department: BBA\n",
            "Name: Little Bo Peep Department: BBA\n"
          ]
        }
      ]
    },
    {
      "cell_type": "markdown",
      "source": [
        "Task – 2\n",
        "<br>x and y coordinates (both are integers). The vehicle gets manufactured (constructed) at\n",
        "(0, 0) coordinate.\n",
        "Subtasks:\n",
        "1. Design a Vehicle2010 class which inherits movement methods from Vehicle\n",
        "and adds new methods called move UpperRight, UpperLeft, LowerRight,\n",
        "LowerLeft. Each of these diagonal move methods must re-use two inherited and\n",
        "appropriate move methods.\n",
        "2. Write an “equals” method which tests if significant class properties are the\n",
        "same (in this case x and y).\n",
        "Note: All moves are 1 step. That means a single call to any move method changes\n",
        "value of either x or y or both by 1."
      ],
      "metadata": {
        "id": "q7FSmF3dbYr9"
      }
    },
    {
      "cell_type": "code",
      "execution_count": null,
      "metadata": {
        "colab": {
          "base_uri": "https://localhost:8080/"
        },
        "id": "eFsYOgBZa06q",
        "outputId": "c717cb8d-557e-49b3-b2cb-511d0f346923"
      },
      "outputs": [
        {
          "output_type": "stream",
          "name": "stdout",
          "text": [
            "Part 1\n",
            "------\n",
            "(0 , 0)\n",
            "(0 , 1)\n",
            "(-1 , 1)\n",
            "(-1 , 0)\n",
            "(0 , 0)\n",
            "------\n",
            "Part 2\n",
            "------\n",
            "(0 , 0)\n",
            "(-1 , -1)\n",
            "False\n",
            "True\n"
          ]
        }
      ],
      "source": [
        "class Vehicle:\n",
        "  def __init__(self):\n",
        "    self.x = 0\n",
        "    self.y = 0\n",
        "  def moveUp(self):\n",
        "    self.y+=1\n",
        "  def moveDown(self):\n",
        "    self.y-=1\n",
        "  def moveRight(self):\n",
        "    self.x+=1\n",
        "  def moveLeft(self):\n",
        "    self.x-=1\n",
        "  def __str__(self):\n",
        "    return '('+str(self.x)+' , '+str(self.y)+')'\n",
        "\n",
        "class Vehicle2010(Vehicle):\n",
        "\n",
        "  def moveUpperRight(self):\n",
        "    super().moveUp()\n",
        "    super().moveRight()\n",
        "  \n",
        "  def moveUpperLeft(self):\n",
        "    super().moveUp()\n",
        "    super().moveLeft()\n",
        "  \n",
        "  def moveLowerLeft(self):\n",
        "    super().moveDown()\n",
        "    super().moveLeft()\n",
        "\n",
        "  def moveLowerRight(self):\n",
        "    super().moveDown()\n",
        "    super().moveRight()\n",
        "  \n",
        "  \n",
        "  def __eq__(self, other):\n",
        "    return self.x == other.x and self.y == other.y\n",
        "  \n",
        "  def equals(self,other):\n",
        "    return self.__eq__(other)\n",
        "      \n",
        "print('Part 1')\n",
        "print('------')\n",
        "car = Vehicle()\n",
        "print(car)\n",
        "car.moveUp()\n",
        "print(car)\n",
        "car.moveLeft()\n",
        "print(car)\n",
        "car.moveDown()\n",
        "print(car)\n",
        "car.moveRight()\n",
        "print(car)\n",
        "print('------')\n",
        "print('Part 2')\n",
        "print('------')\n",
        "car1 = Vehicle2010()\n",
        "print(car1)\n",
        "car1.moveLowerLeft()\n",
        "print(car1)\n",
        "car2 = Vehicle2010()\n",
        "car2.moveLeft()\n",
        "print(car1.equals(car2))\n",
        "car2.moveDown()\n",
        "print(car1.equals(car2))\n",
        "\n"
      ]
    },
    {
      "cell_type": "markdown",
      "source": [
        "Task - 3\n",
        "Given the following classes, write the code for the Cricket_Tournament and the\n",
        "Tennis_Tournment class so that the following output is printed.\n"
      ],
      "metadata": {
        "id": "mc2mymwFRAQ4"
      }
    },
    {
      "cell_type": "code",
      "source": [
        "class Tournament:\n",
        "    def __init__(self,name='Default'):\n",
        "        self.__name = name\n",
        "    def set_name(self,name):\n",
        "        self.__name = name\n",
        "    def get_name(self):\n",
        "        return self.__name\n",
        "\n",
        "class Cricket_Tournament(Tournament):\n",
        "\n",
        "  def __init__(self,name='',teams=0,types=\"No type\"):\n",
        "    super().set_name(name)\n",
        "    self.teams=teams\n",
        "    self.types=types\n",
        "\n",
        "  def detail(self):\n",
        "    return \"Cricket Tournament Name: \"+super().get_name()+\"\\n\"+\"Default Number of Teams: \"+str(self.teams)+\"\\n\"+\"Type: \"+self.types\n",
        "\n",
        "\n",
        "class Tennis_Tournament(Tournament):\n",
        "\n",
        "  def __init__(self,name,numberOfPlayers):\n",
        "    super().set_name(name)\n",
        "    self.numberOfPlayers=numberOfPlayers\n",
        "\n",
        "  def detail(self):\n",
        "    return \"Cricket Tournament Name: \"+super().get_name()+\"\\n\"+\"Number of Players: \"+str(self.numberOfPlayers)\n",
        "\n",
        "\n",
        "\n",
        "#write your code here\n",
        "ct1 = Cricket_Tournament()\n",
        "print(ct1.detail())\n",
        "print(\"-----------------------\")\n",
        "ct2 =Cricket_Tournament(\"IPL\",10,\"t20\")\n",
        "print(ct2.detail())\n",
        "print(\"-----------------------\")\n",
        "tt = Tennis_Tournament(\"RolandGarros\",128)\n",
        "print(tt.detail())"
      ],
      "metadata": {
        "colab": {
          "base_uri": "https://localhost:8080/"
        },
        "id": "AFlnRj2-RP5k",
        "outputId": "823dadff-34ff-4e29-f6a3-0ce22a0a4233"
      },
      "execution_count": null,
      "outputs": [
        {
          "output_type": "stream",
          "name": "stdout",
          "text": [
            "Cricket Tournament Name: \n",
            "Default Number of Teams: 0\n",
            "Type: No type\n",
            "-----------------------\n",
            "Cricket Tournament Name: IPL\n",
            "Default Number of Teams: 10\n",
            "Type: t20\n",
            "-----------------------\n",
            "Cricket Tournament Name: RolandGarros\n",
            "Number of Players: 128\n"
          ]
        }
      ]
    },
    {
      "cell_type": "markdown",
      "source": [
        "Task - 4\n",
        "Given the following classes, write the code for the Book and the CD class so that the\n",
        "following output is printed."
      ],
      "metadata": {
        "id": "ihcHH1N8UIqq"
      }
    },
    {
      "cell_type": "code",
      "source": [
        "class Product:\n",
        "  def __init__(self,id, title, price):\n",
        "      self.__id = id\n",
        "      self. __title = title\n",
        "      self. __price = price\n",
        "  def get_id_title_price(self):\n",
        "      return \"ID: \"+str(self.__id)+\" Title: \"+self.__title+ \" Price: \"+str(self.__price)\n",
        "\n",
        "class Book(Product):\n",
        "  def __init__(self,id,title,price,isbn,publisher):\n",
        "    super().__init__(id,title,price)\n",
        "    self.isbn=isbn\n",
        "    self.publisher=publisher\n",
        "\n",
        "  def printDetail(self):\n",
        "    return super().get_id_title_price()+\" ISBN: \"+self.isbn+\" Publisher: \"+self.publisher\n",
        "\n",
        "\n",
        "class CD(Product):\n",
        "  def __init__(self,id,title,price,band,duration,genre):\n",
        "    super().__init__(id,title,price)\n",
        "    self.band=band\n",
        "    self.duration=duration\n",
        "    self.genre=genre\n",
        "\n",
        "  def printDetail(self):\n",
        "    return super().get_id_title_price()+\" Band: \"+self.band+\" Duration: \"+str(self.duration)+\"minutes\"+\" Genre: \"+self.genre\n",
        "\n",
        "\n",
        "\n",
        "\n",
        "book = Book(1,\"The Alchemist\",500,\"97806\",\"HarperCollins\")\n",
        "print(book.printDetail())\n",
        "print(\"-----------------------\")\n",
        "cd = CD(2,\"Shotto\",300,\"Warfaze\",50,\"Hard Rock\")\n",
        "print(cd.printDetail())"
      ],
      "metadata": {
        "colab": {
          "base_uri": "https://localhost:8080/"
        },
        "id": "UQvMPMsDUJmM",
        "outputId": "ba4e3af5-82cc-47e4-b700-f821eecd236c"
      },
      "execution_count": null,
      "outputs": [
        {
          "output_type": "stream",
          "name": "stdout",
          "text": [
            "ID: 1 Title: The Alchemist Price: 500 ISBN: 97806 Publisher: HarperCollins\n",
            "-----------------------\n",
            "ID: 2 Title: Shotto Price: 300 Band: Warfaze Duration: 50minutes Genre: Hard Rock\n"
          ]
        }
      ]
    },
    {
      "cell_type": "markdown",
      "source": [
        "Task - 5\n",
        "Given the following classes, write the code for the Dog and the Cat class so that the following\n",
        "output is printed."
      ],
      "metadata": {
        "id": "JcggOOh4PpAf"
      }
    },
    {
      "cell_type": "code",
      "source": [
        "class Animal:\n",
        " def __init__(self,sound):\n",
        "  self.__sound = sound\n",
        "\n",
        " def makeSound(self):\n",
        "  return self.__sound\n",
        "\n",
        "class Dog(Animal):\n",
        "  def __init__(self,sound):\n",
        "    super().__init__(sound)\n",
        "\n",
        "class Cat(Animal):\n",
        "  def __init__(self,sound):\n",
        "    super().__init__(sound)\n",
        "\n",
        "\n",
        "\n",
        "class Printer:\n",
        " def printSound(self, a):\n",
        "  print(a.makeSound())\n",
        "\n",
        "\n",
        "\n",
        "d1 = Dog('bark')\n",
        "c1 = Cat('meow')\n",
        "a1 = Animal('Animal does not make sound')\n",
        "pr = Printer()\n",
        "pr.printSound(a1)\n",
        "pr.printSound(c1)\n",
        "pr.printSound(d1)"
      ],
      "metadata": {
        "colab": {
          "base_uri": "https://localhost:8080/"
        },
        "id": "HOD3oUSAPr3H",
        "outputId": "f0538e1d-8035-4fa2-dd9d-163661f8ed9e"
      },
      "execution_count": null,
      "outputs": [
        {
          "output_type": "stream",
          "name": "stdout",
          "text": [
            "Animal does not make sound\n",
            "meow\n",
            "bark\n"
          ]
        }
      ]
    },
    {
      "cell_type": "markdown",
      "source": [
        "Task - 6\n",
        "Given the following classes, write the code for the Triangle and the Trapezoid class so that\n",
        "the following output is printed."
      ],
      "metadata": {
        "id": "SreumBtnSzdC"
      }
    },
    {
      "cell_type": "code",
      "source": [
        "class Shape:\n",
        "  def __init__(self, name='Default', height=0,base=0):\n",
        "    self.area = 0\n",
        "    self.name = name\n",
        "    self.height = height\n",
        "    self.base = base\n",
        "  def get_height_base(self):\n",
        "    return \"Height: \"+str(self.height)+\",Base:\"+str(self.base)\n",
        "\n",
        "\n",
        "\n",
        "class triangle(Shape):\n",
        "  def __init__(self,name='Deafult',height=0,base=0):\n",
        "    super().__init__(name,height,base)\n",
        "  \n",
        "  def calcArea(self):\n",
        "    return 0.5*self.height*self.base\n",
        "  \n",
        "  def printDetail(self):\n",
        "    return \"Shape name:\"+self.name+\"\\n\"+super().get_height_base()+\"\\nArea: \"+str(self.calcArea())\n",
        "\n",
        "\n",
        "class trapezoid(Shape):\n",
        "  def __init__(self,name='Deafult',height=0,base=0,a=0):\n",
        "    super().__init__(name,height,base)\n",
        "    self.side_a=a\n",
        "  \n",
        "  def calcArea(self):\n",
        "    return 0.5*self.height*(self.base+self.side_a)\n",
        "  \n",
        "  def printDetail(self):\n",
        "    return \"Shape name:\"+self.name+\"\\n\"+super().get_height_base()+\",Side_A: \"+str(self.side_a)+\"\\nArea: \"+str(self.calcArea())\n",
        "\n",
        "\n",
        "  \n",
        "\n",
        "\n",
        "\n",
        "tri_default = triangle()\n",
        "tri_default.calcArea()\n",
        "print(tri_default.printDetail())\n",
        "print('--------------------------')\n",
        "tri = triangle('Triangle', 10, 5)\n",
        "tri.calcArea()\n",
        "print(tri.printDetail())\n",
        "print('---------------------------')\n",
        "trap = trapezoid('Trapezoid', 10, 6, 4)\n",
        "trap.calcArea()\n",
        "print(trap.printDetail())"
      ],
      "metadata": {
        "colab": {
          "base_uri": "https://localhost:8080/"
        },
        "id": "EGN8KccGSnf4",
        "outputId": "155cfd58-dc9e-44a9-8c4c-9621df187b6c"
      },
      "execution_count": null,
      "outputs": [
        {
          "output_type": "stream",
          "name": "stdout",
          "text": [
            "Shape name:Deafult\n",
            "Height: 0,Base:0\n",
            "Area: 0.0\n",
            "--------------------------\n",
            "Shape name:Triangle\n",
            "Height: 10,Base:5\n",
            "Area: 25.0\n",
            "---------------------------\n",
            "Shape name:Trapezoid\n",
            "Height: 10,Base:6,Side_A: 4\n",
            "Area: 50.0\n"
          ]
        }
      ]
    },
    {
      "cell_type": "markdown",
      "source": [
        "Task - 7\n",
        "Given the following classes, write the code for the Player and the Manager class so that the\n",
        "following output is printed. To calculate the match earning use the following formula:\n",
        "1. Player: (total_goal * 1000) + (total_match * 10)\n",
        "2. Manager: match_win * 1000"
      ],
      "metadata": {
        "id": "ba46YHW8Znr5"
      }
    },
    {
      "cell_type": "code",
      "source": [
        "class Football:\n",
        "  def __init__(self, team_name, name,role):\n",
        "    self.__team = team_name\n",
        "    self.__name = name\n",
        "    self.role = role\n",
        "    self.earning_per_match = 0\n",
        "  def get_name_team(self):\n",
        "    return 'Name: '+self.__name+', TeamName: ' +self.__team\n",
        "\n",
        "\n",
        "class Player(Football):\n",
        "  def __init__(self,club,player,position,total_goals,total_matchs):\n",
        "    super().__init__(club,player,position)\n",
        "    self.total_goals=total_goals\n",
        "    self.total_matchs=total_matchs\n",
        "\n",
        "  \n",
        "  def calculate_ratio(self):\n",
        "    return  self.total_goals/self.total_matchs\n",
        "  \n",
        "  def print_details(self):\n",
        "    earnings=(self.total_goals * 1000) + (self.total_matchs * 10)\n",
        "    print(super().get_name_team()+ \" Team Role: \"+self.role+\"\\nTotal Goal: \"+str(self.total_goals)+\", Total Played: \"+str(self.total_matchs)+\"\\nGoal Ratio: \"+str(self.calculate_ratio())+\"\\nMatch Earning: \"+str(earnings)+\"K\")\n",
        "\n",
        "\n",
        "\n",
        "\n",
        "\n",
        "\n",
        "\n",
        "\n",
        "player_one = Player('Juventus', 'Ronaldo','Striker', 25, 32)\n",
        "player_one.calculate_ratio()\n",
        "player_one.print_details()\n",
        "print('------------------------------------------')\n",
        "#manager_one = Manager('Real Madrid','Zidane', 'Manager', 25)"
      ],
      "metadata": {
        "colab": {
          "base_uri": "https://localhost:8080/"
        },
        "id": "EapDv3Sen4LF",
        "outputId": "d792bc76-4972-4ccf-e706-82c4c3112241"
      },
      "execution_count": 10,
      "outputs": [
        {
          "output_type": "stream",
          "name": "stdout",
          "text": [
            "Name: Ronaldo, TeamName: Juventus Team Role: Striker\n",
            "Total Goal: 25, Total Played: 32\n",
            "Goal Ratio: 0.78125\n",
            "Match Earning: 25320K\n",
            "------------------------------------------\n"
          ]
        }
      ]
    }
  ]
}