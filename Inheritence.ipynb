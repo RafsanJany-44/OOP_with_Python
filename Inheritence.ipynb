{
  "nbformat": 4,
  "nbformat_minor": 0,
  "metadata": {
    "colab": {
      "name": "Inheritence.ipynb",
      "provenance": [],
      "authorship_tag": "ABX9TyNw0tBUqbD6Qw5nUSEnUrbi",
      "include_colab_link": true
    },
    "kernelspec": {
      "name": "python3",
      "display_name": "Python 3"
    },
    "language_info": {
      "name": "python"
    }
  },
  "cells": [
    {
      "cell_type": "markdown",
      "metadata": {
        "id": "view-in-github",
        "colab_type": "text"
      },
      "source": [
        "<a href=\"https://colab.research.google.com/github/RafsanJany-44/OOP_with_Python/blob/master/Inheritence.ipynb\" target=\"_parent\"><img src=\"https://colab.research.google.com/assets/colab-badge.svg\" alt=\"Open In Colab\"/></a>"
      ]
    },
    {
      "cell_type": "markdown",
      "source": [
        "Task-1\n"
      ],
      "metadata": {
        "id": "NK2GocUnQnqv"
      }
    },
    {
      "cell_type": "code",
      "source": [
        "class Student:\n",
        "    def __init__(self, name='Just a student', dept='nothing'):\n",
        "        self.__name = name\n",
        "        self.__department = dept\n",
        "    def set_department(self, dept):\n",
        "        self.__department = dept\n",
        "    def get_name(self):\n",
        "        return self.__name\n",
        "    def set_name(self,name):\n",
        "        self.__name = name\n",
        "    def __str__(self):\n",
        "        return 'Name: '+self.__name+' Department: '+self.__department\n",
        "\n",
        "\n",
        "#write your code here\n",
        "class  BBA_Student(Student):\n",
        "  def __init__(self,name=\"default\",dept=\"BBA\"):\n",
        "    super().set_name(name)\n",
        "    super().set_department(dept)\n",
        "\n",
        "print(BBA_Student())\n",
        "print(BBA_Student('Humpty Dumpty'))\n",
        "print(BBA_Student('Little Bo Peep'))"
      ],
      "metadata": {
        "colab": {
          "base_uri": "https://localhost:8080/"
        },
        "id": "9jUnWvXjQpvM",
        "outputId": "665ce081-35ec-4ea1-8b22-e0703dd7a0fe"
      },
      "execution_count": null,
      "outputs": [
        {
          "output_type": "stream",
          "name": "stdout",
          "text": [
            "Name: default Department: BBA\n",
            "Name: Humpty Dumpty Department: BBA\n",
            "Name: Little Bo Peep Department: BBA\n"
          ]
        }
      ]
    },
    {
      "cell_type": "markdown",
      "source": [
        "Task – 2\n",
        "<br>x and y coordinates (both are integers). The vehicle gets manufactured (constructed) at\n",
        "(0, 0) coordinate.\n",
        "Subtasks:\n",
        "1. Design a Vehicle2010 class which inherits movement methods from Vehicle\n",
        "and adds new methods called move UpperRight, UpperLeft, LowerRight,\n",
        "LowerLeft. Each of these diagonal move methods must re-use two inherited and\n",
        "appropriate move methods.\n",
        "2. Write an “equals” method which tests if significant class properties are the\n",
        "same (in this case x and y).\n",
        "Note: All moves are 1 step. That means a single call to any move method changes\n",
        "value of either x or y or both by 1."
      ],
      "metadata": {
        "id": "q7FSmF3dbYr9"
      }
    },
    {
      "cell_type": "code",
      "execution_count": null,
      "metadata": {
        "colab": {
          "base_uri": "https://localhost:8080/"
        },
        "id": "eFsYOgBZa06q",
        "outputId": "c717cb8d-557e-49b3-b2cb-511d0f346923"
      },
      "outputs": [
        {
          "output_type": "stream",
          "name": "stdout",
          "text": [
            "Part 1\n",
            "------\n",
            "(0 , 0)\n",
            "(0 , 1)\n",
            "(-1 , 1)\n",
            "(-1 , 0)\n",
            "(0 , 0)\n",
            "------\n",
            "Part 2\n",
            "------\n",
            "(0 , 0)\n",
            "(-1 , -1)\n",
            "False\n",
            "True\n"
          ]
        }
      ],
      "source": [
        "class Vehicle:\n",
        "  def __init__(self):\n",
        "    self.x = 0\n",
        "    self.y = 0\n",
        "  def moveUp(self):\n",
        "    self.y+=1\n",
        "  def moveDown(self):\n",
        "    self.y-=1\n",
        "  def moveRight(self):\n",
        "    self.x+=1\n",
        "  def moveLeft(self):\n",
        "    self.x-=1\n",
        "  def __str__(self):\n",
        "    return '('+str(self.x)+' , '+str(self.y)+')'\n",
        "\n",
        "class Vehicle2010(Vehicle):\n",
        "\n",
        "  def moveUpperRight(self):\n",
        "    super().moveUp()\n",
        "    super().moveRight()\n",
        "  \n",
        "  def moveUpperLeft(self):\n",
        "    super().moveUp()\n",
        "    super().moveLeft()\n",
        "  \n",
        "  def moveLowerLeft(self):\n",
        "    super().moveDown()\n",
        "    super().moveLeft()\n",
        "\n",
        "  def moveLowerRight(self):\n",
        "    super().moveDown()\n",
        "    super().moveRight()\n",
        "  \n",
        "  \n",
        "  def __eq__(self, other):\n",
        "    return self.x == other.x and self.y == other.y\n",
        "  \n",
        "  def equals(self,other):\n",
        "    return self.__eq__(other)\n",
        "      \n",
        "print('Part 1')\n",
        "print('------')\n",
        "car = Vehicle()\n",
        "print(car)\n",
        "car.moveUp()\n",
        "print(car)\n",
        "car.moveLeft()\n",
        "print(car)\n",
        "car.moveDown()\n",
        "print(car)\n",
        "car.moveRight()\n",
        "print(car)\n",
        "print('------')\n",
        "print('Part 2')\n",
        "print('------')\n",
        "car1 = Vehicle2010()\n",
        "print(car1)\n",
        "car1.moveLowerLeft()\n",
        "print(car1)\n",
        "car2 = Vehicle2010()\n",
        "car2.moveLeft()\n",
        "print(car1.equals(car2))\n",
        "car2.moveDown()\n",
        "print(car1.equals(car2))\n",
        "\n"
      ]
    },
    {
      "cell_type": "markdown",
      "source": [
        "Task - 3\n",
        "Given the following classes, write the code for the Cricket_Tournament and the\n",
        "Tennis_Tournment class so that the following output is printed.\n"
      ],
      "metadata": {
        "id": "mc2mymwFRAQ4"
      }
    },
    {
      "cell_type": "code",
      "source": [
        "class Tournament:\n",
        "    def __init__(self,name='Default'):\n",
        "        self.__name = name\n",
        "    def set_name(self,name):\n",
        "        self.__name = name\n",
        "    def get_name(self):\n",
        "        return self.__name\n",
        "\n",
        "class Cricket_Tournament(Tournament):\n",
        "  \n",
        "  def __init__(self,name,teams,types):\n",
        "    super().set_name(name)\n",
        "    self.teams=teams\n",
        "    self.types=types\n",
        "\n",
        "\n",
        "\n",
        "\n",
        "\n",
        "#write your code here\n",
        "ct1 = Cricket_Tournament()\n",
        "print(ct1.detail())\n",
        "print(\"-----------------------\")\n",
        "ct2 =\n",
        "Cricket_Tournament(\"IPL\",10,\"t20\")\n",
        "print(ct2.detail())\n",
        "print(\"-----------------------\")\n",
        "tt = Tennis_Tournament(\"Roland\n",
        "Garros\",128)\n",
        "print(tt.detail())"
      ],
      "metadata": {
        "id": "AFlnRj2-RP5k"
      },
      "execution_count": null,
      "outputs": []
    }
  ]
}