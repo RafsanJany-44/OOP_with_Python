{
  "nbformat": 4,
  "nbformat_minor": 0,
  "metadata": {
    "colab": {
      "name": "Overridding_20220416.ipynb",
      "provenance": [],
      "authorship_tag": "ABX9TyNqQhovejsZe/XFxJbwZaSJ",
      "include_colab_link": true
    },
    "kernelspec": {
      "name": "python3",
      "display_name": "Python 3"
    },
    "language_info": {
      "name": "python"
    }
  },
  "cells": [
    {
      "cell_type": "markdown",
      "metadata": {
        "id": "view-in-github",
        "colab_type": "text"
      },
      "source": [
        "<a href=\"https://colab.research.google.com/github/RafsanJany-44/OOP_with_Python/blob/master/Overridding_20220416.ipynb\" target=\"_parent\"><img src=\"https://colab.research.google.com/assets/colab-badge.svg\" alt=\"Open In Colab\"/></a>"
      ]
    },
    {
      "cell_type": "markdown",
      "source": [
        "Task - 1\n",
        "<br>\n",
        "Let’s Play with Numbers!!!\n",
        "Write the ComplexNumber class so that the following code generates the output below.\n"
      ],
      "metadata": {
        "id": "DsSs93rDso7i"
      }
    },
    {
      "cell_type": "code",
      "execution_count": 4,
      "metadata": {
        "id": "oam6oL6urufb",
        "colab": {
          "base_uri": "https://localhost:8080/"
        },
        "outputId": "ca0c5dea-61fe-4008-f4d5-0178c43d37de"
      },
      "outputs": [
        {
          "output_type": "stream",
          "name": "stdout",
          "text": [
            "RealPart: 1.0\n",
            "Imagenary Part: 1.0\n",
            "---------\n",
            "RealPart: 5\n",
            "Imagenary Part: 7\n"
          ]
        }
      ],
      "source": [
        "class RealNumber:\n",
        "\n",
        "  def __init__(self, r=0):\n",
        "    self.__realValue = r\n",
        "\n",
        "  def getRealValue(self):\n",
        "    return self.__realValue\n",
        "\n",
        "  def setRealValue(self, r):\n",
        "    self.__realValue = r\n",
        "\n",
        "  def __str__(self):\n",
        "    return 'RealPart: '+str(self.getRealValue())\n",
        "\n",
        "class ComplexNumber(RealNumber):\n",
        "  \n",
        "  def __init__(self,real=1.0,img=1.0):\n",
        "    super().__init__(real)\n",
        "    self.img=img\n",
        "  def __str__(self):\n",
        "    return super().__str__()+\"\\nImagenary Part: \"+str(self.img)\n",
        "\n",
        "\n",
        "\n",
        "\n",
        "cn1 = ComplexNumber()\n",
        "print(cn1)\n",
        "print('---------')\n",
        "cn2 = ComplexNumber(5,7)\n",
        "print(cn2)"
      ]
    },
    {
      "cell_type": "markdown",
      "source": [
        "Task - 2"
      ],
      "metadata": {
        "id": "4pQyOXe43Qrm"
      }
    },
    {
      "cell_type": "code",
      "source": [
        "class RealNumber:\n",
        "  def __init__(self, number=0):\n",
        "\n",
        "    self.number = number\n",
        "  def __add__(self, anotherRealNumber):\n",
        "    return self.number + anotherRealNumber.number\n",
        "\n",
        "  def __sub__(self, anotherRealNumber):\n",
        "    return self.number - anotherRealNumber.number\n",
        "\n",
        "  def __str__(self):\n",
        "    return str(self.number)\n",
        "\n",
        "\n",
        "\n",
        "class ComplexNumber(RealNumber):\n",
        "\n",
        "  def __init__(self,real,img):\n",
        "    super().__init__(real)\n",
        "    self.img=img\n",
        "\n",
        "  \n",
        "  def __add__(self, aotherImg):\n",
        "    return self.img + aotherImg.img\n",
        "\n",
        "  def __sub__(self, aotherImg):\n",
        "    return self.img - aotherImg.img\n",
        "\n",
        "  def __str__(self):\n",
        "    return super().__str__()+\" \"+str(self.img)+\"i\"\n",
        "  \n",
        "\n",
        "\n",
        "r1 = RealNumber(3)\n",
        "r2 = RealNumber(5)\n",
        "print(r1+r2)\n",
        "cn1 = ComplexNumber(2, 1)\n",
        "print(cn1)\n",
        "cn2 = ComplexNumber(r1, 5)\n",
        "print(cn2)\n",
        "cn3 = cn1 + cn2\n",
        "print(cn3)\n",
        "cn4 = cn1 - cn2\n",
        "print(cn4)"
      ],
      "metadata": {
        "colab": {
          "base_uri": "https://localhost:8080/"
        },
        "id": "bHdiXv5S3RcR",
        "outputId": "155f8897-6a88-40e0-8685-50fdb41db5bd"
      },
      "execution_count": 3,
      "outputs": [
        {
          "output_type": "stream",
          "name": "stdout",
          "text": [
            "8\n",
            "2 1i\n",
            "3 5i\n",
            "6\n",
            "-4\n"
          ]
        }
      ]
    }
  ]
}