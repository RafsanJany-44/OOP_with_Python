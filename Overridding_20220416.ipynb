{
  "nbformat": 4,
  "nbformat_minor": 0,
  "metadata": {
    "colab": {
      "name": "Overridding_20220416.ipynb",
      "provenance": [],
      "authorship_tag": "ABX9TyOlK80SFaRJNg77q8YAtf4T",
      "include_colab_link": true
    },
    "kernelspec": {
      "name": "python3",
      "display_name": "Python 3"
    },
    "language_info": {
      "name": "python"
    }
  },
  "cells": [
    {
      "cell_type": "markdown",
      "metadata": {
        "id": "view-in-github",
        "colab_type": "text"
      },
      "source": [
        "<a href=\"https://colab.research.google.com/github/RafsanJany-44/OOP_with_Python/blob/master/Overridding_20220416.ipynb\" target=\"_parent\"><img src=\"https://colab.research.google.com/assets/colab-badge.svg\" alt=\"Open In Colab\"/></a>"
      ]
    },
    {
      "cell_type": "markdown",
      "source": [
        "Task - 1\n",
        "<br>\n",
        "Let’s Play with Numbers!!!\n",
        "Write the ComplexNumber class so that the following code generates the output below.\n"
      ],
      "metadata": {
        "id": "DsSs93rDso7i"
      }
    },
    {
      "cell_type": "code",
      "execution_count": null,
      "metadata": {
        "id": "oam6oL6urufb"
      },
      "outputs": [],
      "source": [
        "class RealNumber:\n",
        "\n",
        "  def __init__(self, r=0):\n",
        "    self.__realValue = r\n",
        "\n",
        "  def getRealValue(self):\n",
        "    return self.__realValue\n",
        "\n",
        "  def setRealValue(self, r):\n",
        "    self.__realValue = r\n",
        "\n",
        "  def __str__(self):\n",
        "    return 'RealPart: '+str(self.getRealValue())\n",
        "\n",
        "class ComplexNumber(RealNumber):\n",
        "  \n",
        "  def __init__(self,real=1.0,img=1.0):\n",
        "    super().__init__(real)\n",
        "    self.img=img\n",
        "  def __str__(self):\n",
        "    return super().__str__()+\"\\nImagenary Part: \"+str(self.img)\n",
        "\n",
        "\n",
        "\n",
        "\n",
        "cn1 = ComplexNumber()\n",
        "print(cn1)\n",
        "print('---------')\n",
        "cn2 = ComplexNumber(5,7)\n",
        "print(cn2)"
      ]
    },
    {
      "cell_type": "markdown",
      "source": [
        "Task - 2"
      ],
      "metadata": {
        "id": "4pQyOXe43Qrm"
      }
    },
    {
      "cell_type": "code",
      "source": [
        "\n",
        "class RealNumber:\n",
        "    def __init__(self, number=0):\n",
        "        self.number = number\n",
        "    def __add__(self, anotherRealNumber):\n",
        "        return self.number + anotherRealNumber.number\n",
        "    def __sub__(self, anotherRealNumber):\n",
        "        return self.number - anotherRealNumber.number\n",
        "    def __str__(self):\n",
        "        return str(self.number)\n",
        "    \n",
        "class ComplexNumber(RealNumber):\n",
        "    def __init__(self, number, i):\n",
        "        super().__init__(number)\n",
        "        self.i = i\n",
        "    def __str__(self):\n",
        "        return super().__str__()+\" + \"+ str(self.i)+\"i\"\n",
        "    def __add__(self, complexnumber):\n",
        "        return str(super().__add__(complexnumber.number))+\" + \"+str(self.i + complexnumber.i)+\"i\"\n",
        "    def __sub__(self, complexnumber):\n",
        "        if complexnumber.i > self.i:\n",
        "            return str(super().__sub__(complexnumber.number))+\" - \"+str(complexnumber.i-self.i)+\"i\"\n",
        "        else:\n",
        "            return str(super().__sub__(complexnumber.number)+\" + \"+ str(self.i-complexnumber.i))\n",
        "    \n",
        "    \n",
        "r1 = RealNumber(3)\n",
        "r2 = RealNumber(5)\n",
        "print(r1+r2)\n",
        "cn1 = ComplexNumber(2, 1)\n",
        "print(cn1)\n",
        "cn2 = ComplexNumber(r1, 5)\n",
        "print(cn2)\n",
        "cn3 = cn1 + cn2\n",
        "print(cn3)\n",
        "cn4 = cn1 - cn2\n",
        "print(cn4)"
      ],
      "metadata": {
        "colab": {
          "base_uri": "https://localhost:8080/"
        },
        "id": "bHdiXv5S3RcR",
        "outputId": "c55a47c1-1c13-4182-930b-8648eb24667a"
      },
      "execution_count": 21,
      "outputs": [
        {
          "output_type": "stream",
          "name": "stdout",
          "text": [
            "8\n",
            "2 + 1i\n",
            "3 + 5i\n",
            "5 + 6i\n",
            "-1 - 4i\n"
          ]
        }
      ]
    },
    {
      "cell_type": "markdown",
      "source": [
        "#task 3"
      ],
      "metadata": {
        "id": "40KCQMbR2Qq3"
      }
    },
    {
      "cell_type": "code",
      "source": [
        "\n",
        "class Account:\n",
        "    def __init__(self, balance):\n",
        "        self._balance = balance\n",
        " \n",
        "    def getBalance(self):\n",
        "        return self._balance\n",
        "\n",
        "class CheckingAccount(Account):\n",
        "\n",
        "    count_Accounts = 0\n",
        "    def __init__(self, b = 0):\n",
        "        super().__init__(b)\n",
        "        CheckingAccount.count_Accounts += 1\n",
        "\n",
        "    def __str__(self):\n",
        "        if self.getBalance() != 0:\n",
        "            return f\"Account Balance: {self.getBalance():.2f}\"\n",
        "        else:\n",
        "            return \"Account Balance:{}\".format(self.getBalance())\n",
        "\n",
        "print('Number of Checking Accounts: ', CheckingAccount.count_Accounts)\n",
        "print(CheckingAccount())\n",
        "print(CheckingAccount(100.00))\n",
        "print(CheckingAccount(200.00))\n",
        "print('Number of Checking Accounts: ', CheckingAccount.count_Accounts)"
      ],
      "metadata": {
        "colab": {
          "base_uri": "https://localhost:8080/"
        },
        "id": "JBhidthj2SSq",
        "outputId": "2911d90b-643e-409a-b0e1-0ae2cfcd5855"
      },
      "execution_count": 27,
      "outputs": [
        {
          "output_type": "stream",
          "name": "stdout",
          "text": [
            "Number of Checking Accounts:  0\n",
            "Account Balance:0\n",
            "Account Balance: 100.00\n",
            "Account Balance: 200.00\n",
            "Number of Checking Accounts:  3\n"
          ]
        }
      ]
    },
    {
      "cell_type": "markdown",
      "source": [
        "#task4"
      ],
      "metadata": {
        "id": "B3XlWKFG3YO_"
      }
    },
    {
      "cell_type": "code",
      "source": [
        "\n",
        "class Fruit:\n",
        "    def __init__(self, formalin=False, name=''):\n",
        "        self.__formalin = formalin\n",
        "        self.name = name\n",
        " \n",
        "    def getName(self):\n",
        "        return self.name\n",
        " \n",
        "    def hasFormalin(self):\n",
        "        return self.__formalin\n",
        "\n",
        "class testFruit:\n",
        "    def test(self, f):\n",
        "        print('----Printing Detail----')\n",
        "        if f.hasFormalin():\n",
        "            print('Do not eat the',f.getName(),'.')\n",
        "            print(f)\n",
        "        else:\n",
        "            print('Eat the',f.getName(),'.')\n",
        "            print(f)\n",
        "            \n",
        "class Mango(Fruit):\n",
        "    def __init__(self, formalin = True, fruit_name='Mango'):\n",
        "        super().__init__(formalin, fruit_name)\n",
        "    def __str__(self):\n",
        "        if self.hasFormalin() == True:\n",
        "            return self.getName()+\" are bad for you\"\n",
        "        else:\n",
        "            return self.getName()+\" are good for you\"\n",
        "\n",
        "class Jackfruit(Fruit):\n",
        "    def __init__(self, formalin = False, fruit_name='Jackfruit'):\n",
        "\n",
        "        super().__init__(formalin, fruit_name)\n",
        "    def __str__(self):\n",
        "        if self.hasFormalin() == True:\n",
        "            return self.getName()+\" are bad for you\"\n",
        "        else:\n",
        "            return self.getName()+\" are good for you\"\n",
        "\n",
        "\n",
        "m = Mango()\n",
        "j = Jackfruit()\n",
        "t1 = testFruit()\n",
        "t1.test(m)\n",
        "t1.test(j)"
      ],
      "metadata": {
        "colab": {
          "base_uri": "https://localhost:8080/"
        },
        "id": "ZL9ZzWMI3cjg",
        "outputId": "55323109-fd81-49ea-8b8e-ce2195f3e1e0"
      },
      "execution_count": 29,
      "outputs": [
        {
          "output_type": "stream",
          "name": "stdout",
          "text": [
            "----Printing Detail----\n",
            "Do not eat the Mango .\n",
            "Mango are bad for you\n",
            "----Printing Detail----\n",
            "Eat the Jackfruit .\n",
            "Jackfruit are good for you\n"
          ]
        }
      ]
    },
    {
      "cell_type": "markdown",
      "source": [
        "#task 5"
      ],
      "metadata": {
        "id": "6Kr9hh684GD0"
      }
    },
    {
      "cell_type": "code",
      "source": [
        "\n",
        "class Exam:\n",
        "    def __init__(self,marks):\n",
        "        self.marks = marks\n",
        "        self.time = 60\n",
        "    def examSyllabus(self):\n",
        "        return \"Maths , English\"\n",
        "    def examParts(self):\n",
        "        return \"Part 1 - Maths\\nPart 2 - English\\n\"\n",
        "    \n",
        "class ScienceExam(Exam):\n",
        "\n",
        "    def __init__(self, marks, time, *args):\n",
        "        super().__init__(marks)\n",
        "        self.time = time\n",
        "        self.args = args\n",
        "    def examSyllabus(self):\n",
        "        course = super().examSyllabus()\n",
        "        for k in self.args:\n",
        "             course += \" , \" + k\n",
        "        return course\n",
        "    def examParts(self):\n",
        "        course = super().examParts()\n",
        "        for k in self.args:\n",
        "            if self.args.index(k) == len(self.args):\n",
        "                course += \"Part \"+(self.args.index(k)+3)+\" - \"+k\n",
        "            else:\n",
        "                course += \"Part\"+str(self.args.index(k)+3)+\" - \"+k+\"\\n\"\n",
        "        return course\n",
        "    def __str__(self):\n",
        "        return \"Marks: \"+str(self.marks)+\"Time: \"+ str(self.time)+\" minutes Number of Parts: \"+str(len(self.args)+2)\n",
        "\n",
        "\n",
        "engineering = ScienceExam(100,90,\"Physics\",\"HigherMaths\")\n",
        "print(engineering)\n",
        "print('----------------------------------')\n",
        "print(engineering.examSyllabus())\n",
        "print(engineering.examParts())\n",
        "print('==================================')\n",
        "architecture = ScienceExam(100,120,\"Physics\",\"HigherMaths\",\"Drawing\")\n",
        "print(architecture)\n",
        "print('----------------------------------')\n",
        "print(architecture.examSyllabus())\n",
        "print(architecture.examParts())"
      ],
      "metadata": {
        "colab": {
          "base_uri": "https://localhost:8080/"
        },
        "id": "QLDW1in54HaJ",
        "outputId": "1b14dd3b-6683-4f8d-f705-f16b06ef545b"
      },
      "execution_count": 35,
      "outputs": [
        {
          "output_type": "stream",
          "name": "stdout",
          "text": [
            "Marks: 100Time: 90 minutes Number of Parts: 4\n",
            "----------------------------------\n",
            "Maths , English , Physics , HigherMaths\n",
            "Part 1 - Maths\n",
            "Part 2 - English\n",
            "Part3 - Physics\n",
            "Part4 - HigherMaths\n",
            "\n",
            "==================================\n",
            "Marks: 100Time: 120 minutes Number of Parts: 5\n",
            "----------------------------------\n",
            "Maths , English , Physics , HigherMaths , Drawing\n",
            "Part 1 - Maths\n",
            "Part 2 - English\n",
            "Part3 - Physics\n",
            "Part4 - HigherMaths\n",
            "Part5 - Drawing\n",
            "\n"
          ]
        }
      ]
    },
    {
      "cell_type": "markdown",
      "source": [
        "#task6"
      ],
      "metadata": {
        "id": "4FfmKsF_7Eni"
      }
    },
    {
      "cell_type": "code",
      "source": [
        "\n",
        "class Shape3D:\n",
        "    pi = 3.14159\n",
        "    def __init__(self, name = 'Default', radius = 0):\n",
        "        self._area = 0\n",
        "        self._name = name\n",
        "        self._height = 'No need'\n",
        "        self._radius = radius \n",
        "    def calc_surface_area(self):\n",
        "        return 2 * Shape3D.pi * self._radius\n",
        "    def __str__(self):\n",
        "        return \"Radius: \"+str(self._radius)\n",
        "    \n",
        "class Sphere(Shape3D):\n",
        "    def __init__(self, shape_name = 'Default', rad = 0):\n",
        "        super().__init__(shape_name, rad)\n",
        "        print(\"Shape name: \"+self._name+\"Area Formula: 4 * pi * r * r\")\n",
        "    \n",
        "    def calc_surface_area(self):\n",
        "        self._area = 2 * super().calc_surface_area() * self._radius\n",
        "        return self._area\n",
        "    \n",
        "    def __str__(self):\n",
        "        return super().__str__()+\", Height: \"+str(self._height)+\"\\nArea: \"+str(self._area)\n",
        "    \n",
        "\n",
        "class Cylinder(Shape3D):\n",
        "    def __init__(self, shape_name = 'Default', rad = 0, h= 0):\n",
        "        super().__init__(shape_name, rad)\n",
        "        self._height = h\n",
        "        print(\"Shape name: \"+self._name+\"Area Formula: 2 * pi * r * (r + h)\")\n",
        "\n",
        "    def calc_surface_area(self):\n",
        "        self._area = super().calc_surface_area() * (self._radius+self._height)\n",
        "        return self._area\n",
        "\n",
        "    def __str__(self):\n",
        "        return super().__str__()+\", Height: \"+str(self._height)+\"\\nArea: \"+str(self._area)\n",
        "\n",
        "\n",
        "sph = Sphere('Sphere', 5)\n",
        "print('----------------------------------')\n",
        "sph.calc_surface_area()\n",
        "print(sph)\n",
        "print('==================================')\n",
        "cyl = Cylinder('Cylinder', 5, 10)\n",
        "print('----------------------------------')\n",
        "cyl.calc_surface_area()\n",
        "print(cyl)"
      ],
      "metadata": {
        "colab": {
          "base_uri": "https://localhost:8080/"
        },
        "id": "uJYSPumD5ovq",
        "outputId": "90adb463-8eee-4ec7-f1eb-790e28c81eca"
      },
      "execution_count": 42,
      "outputs": [
        {
          "output_type": "stream",
          "name": "stdout",
          "text": [
            "Shape name: SphereArea Formula: 4 * pi * r * r\n",
            "----------------------------------\n",
            "Radius: 5, Height: No need\n",
            "Area: 314.159\n",
            "==================================\n",
            "Shape name: CylinderArea Formula: 2 * pi * r * (r + h)\n",
            "----------------------------------\n",
            "Radius: 5, Height: 10\n",
            "Area: 471.2385\n"
          ]
        }
      ]
    },
    {
      "cell_type": "markdown",
      "source": [
        "#task 7"
      ],
      "metadata": {
        "id": "T6mZv0FJ7G2g"
      }
    },
    {
      "cell_type": "code",
      "source": [
        "\n",
        "class PokemonBasic:\n",
        "    def __init__(self, name = 'Default', hp = 0, weakness = 'None', type = 'Unknown'):\n",
        "        self.name = name\n",
        "        self.hit_point = hp\n",
        "        self.weakness = weakness\n",
        "        self.type = type\n",
        "    def get_type(self):\n",
        "        return 'Main type: ' + self.type\n",
        "    def get_move(self):\n",
        "        return 'Basic move: ' + 'Quick Attack'\n",
        "    def __str__(self):\n",
        "        return \"Name: \" + self.name + \", HP: \" + str(self.hit_point) + \", Weakness: \" + self.weakness\n",
        "\n",
        "class PokemonExtra(PokemonBasic):\n",
        "    def __init__(self, pok_name = 'Default', hp = 0, weakness = 'None', type = 'Unknown', stype= None, move = None):\n",
        "        super().__init__(pok_name, hp, weakness, type)\n",
        "        self.stype = stype\n",
        "        self.move = move\n",
        "\n",
        "    def get_type(self):\n",
        "        if self.stype == None:\n",
        "            return super().get_type()\n",
        "        else:\n",
        "            return super().get_type()+\"  Secondary type: \"+ self.stype\n",
        "    def get_move(self):\n",
        "        if self.move == None:\n",
        "            return super().get_move()\n",
        "        else:\n",
        "            self.moves_l = []\n",
        "            x = \"\"\n",
        "            for move in self.move:\n",
        "                self.moves_l.append(self.move)\n",
        "                if len(self.move) == 1:\n",
        "                    x = x + self.move[0]\n",
        "                else:\n",
        "                    for k in range((len(self.move)) - 1):\n",
        "                        x = x + self.move[k] + ', '\n",
        "                    x = x + self.move[-1]\n",
        "\n",
        "                return super().get_move()+\"\\nOther move: \"+ x\n",
        "        \n",
        "print('\\n------------Basic Info:--------------')\n",
        "pk = PokemonBasic()\n",
        "print(pk)\n",
        "print(pk.get_type())\n",
        "print(pk.get_move())\n",
        "print('\\n------------Pokemon 1 Info:-------------')\n",
        "charmander = PokemonExtra('Charmander', 39, 'Water', 'Fire')\n",
        "print(charmander)\n",
        "print(charmander.get_type())\n",
        "print(charmander.get_move())\n",
        "print('\\n------------Pokemon 2 Info:-------------')\n",
        "charizard = PokemonExtra('Charizard', 78, 'Water', 'Fire', 'Flying', ('Fire Spin', 'Fire Blaze'))\n",
        "print(charizard)\n",
        "print(charizard.get_type())\n",
        "print(charizard.get_move())"
      ],
      "metadata": {
        "colab": {
          "base_uri": "https://localhost:8080/"
        },
        "id": "aPou6uZo7H8_",
        "outputId": "6df9883f-a90d-4b6f-818d-0fa31155faf8"
      },
      "execution_count": 46,
      "outputs": [
        {
          "output_type": "stream",
          "name": "stdout",
          "text": [
            "\n",
            "------------Basic Info:--------------\n",
            "Name: Default, HP: 0, Weakness: None\n",
            "Main type: Unknown\n",
            "Basic move: Quick Attack\n",
            "\n",
            "------------Pokemon 1 Info:-------------\n",
            "Name: Charmander, HP: 39, Weakness: Water\n",
            "Main type: Fire\n",
            "Basic move: Quick Attack\n",
            "\n",
            "------------Pokemon 2 Info:-------------\n",
            "Name: Charizard, HP: 78, Weakness: Water\n",
            "Main type: Fire  Secondary type: Flying\n",
            "Basic move: Quick Attack\n",
            "Other move: Fire Spin, Fire Blaze\n"
          ]
        }
      ]
    },
    {
      "cell_type": "markdown",
      "source": [
        "#task 8"
      ],
      "metadata": {
        "id": "EQPQGJBC8ECg"
      }
    },
    {
      "cell_type": "code",
      "source": [
        "\n",
        "class Team:\n",
        "    def __init__(self, name):\n",
        "        self.name = \"default\"\n",
        "        self.total_player = 5\n",
        "    def info(self):\n",
        "        print(\"We love sports\")\n",
        "\n",
        "class FootBallTeam(Team):\n",
        "    def __init__(self, team_name = \"default\"):\n",
        "        self.team_name = team_name\n",
        "        self.total_player = 11\n",
        "    def info(self):\n",
        "        print(\"Our name is \"+self.team_name)\n",
        "        if self.team_name == \"Brazil\":\n",
        "            print(\"We  play Football\")\n",
        "        else:\n",
        "            pass\n",
        "        super().info()\n",
        "        \n",
        "class CricketTeam(Team):\n",
        "    def __init__(self, team_name = \"default\"):\n",
        "        self.team_name = team_name\n",
        "        self.total_player = 11\n",
        "    def info(self):\n",
        "        print(\"Our name is \"+self.team_name)\n",
        "        if self.team_name == \"Bangladesh\":\n",
        "            print(\"We  play Cricket\")\n",
        "        else:\n",
        "            pass\n",
        "        super().info()\n",
        "\n",
        "class Team_test:\n",
        "    def check(self, tm):\n",
        "        print(\"=========================\")\n",
        "        print(\"Total Player:\", tm.total_player)\n",
        "        tm.info()\n",
        "f = FootBallTeam(\"Brazil\")\n",
        "c = CricketTeam(\"Bangladesh\")\n",
        "test = Team_test()\n",
        "test.check(f)\n",
        "test.check(c)"
      ],
      "metadata": {
        "colab": {
          "base_uri": "https://localhost:8080/"
        },
        "id": "uzPqJRVb8Fqi",
        "outputId": "a1966a76-c134-47b7-9ccb-e4764cafbd93"
      },
      "execution_count": 48,
      "outputs": [
        {
          "output_type": "stream",
          "name": "stdout",
          "text": [
            "=========================\n",
            "Total Player: 11\n",
            "Our name is Brazil\n",
            "We  play Football\n",
            "We love sports\n",
            "=========================\n",
            "Total Player: 11\n",
            "Our name is Bangladesh\n",
            "We  play Cricket\n",
            "We love sports\n"
          ]
        }
      ]
    },
    {
      "cell_type": "markdown",
      "source": [
        "#task 9"
      ],
      "metadata": {
        "id": "TvZ_9_0Q8ldc"
      }
    },
    {
      "cell_type": "code",
      "source": [
        "\n",
        "class Pokemon:\n",
        "    def __init__(self, p):\n",
        "        self.pokemon = p\n",
        "        self.pokemon_type = \"Needs to be set\"\n",
        "        self.pokemon_weakness = \"Needs to be set\"\n",
        "    def kind(self):\n",
        "        return self.pokemon_type \n",
        "    def weakness(self):\n",
        "        return self.pokemon_weakness\n",
        "    def what_am_i(self):\n",
        "        print(\"I am a Pokemon.\")\n",
        "\n",
        "class Pikachu(Pokemon):\n",
        "    def __init__(self, pok_name = \"Pikachu\"):\n",
        "        super().__init__(pok_name)\n",
        "    def kind(self):\n",
        "        self.pok_type = \"Electric\"\n",
        "        return self.pok_type\n",
        "    def weakness(self):\n",
        "        self.pok_weakness = \"Ground\"\n",
        "        return self.pok_weakness\n",
        "    def what_am_i(self):\n",
        "        super().what_am_i()\n",
        "        print(\"I am \"+self.pokemon)\n",
        "        \n",
        "class Charmander(Pokemon):\n",
        "    def __init__(self, pok_name = \"Charmander\"):\n",
        "        super().__init__(pok_name)\n",
        "    def kind(self):\n",
        "        self.pok_type = \"Fire\"\n",
        "        return self.pok_type\n",
        "    def weakness(self):\n",
        "        self.pok_weakness = \"Water, Ground and Rock\"\n",
        "        return self.pok_weakness\n",
        "    def what_am_i(self):\n",
        "        super().what_am_i()\n",
        "        print(\"I am \"+(self.pokemon))\n",
        "\n",
        "pk1 = Pikachu()\n",
        "print(\"Pokemon:\", pk1.pokemon)\n",
        "print(\"Type:\", pk1.kind())\n",
        "print(\"Weakness:\", pk1.weakness())\n",
        "pk1.what_am_i()\n",
        "print(\"========================\")\n",
        "c1 = Charmander()\n",
        "print(\"Pokemon:\", c1.pokemon)\n",
        "print(\"Type:\", c1.kind())\n",
        "print(\"Weakness:\", c1.weakness())\n",
        "c1.what_am_i()"
      ],
      "metadata": {
        "id": "kSDsJKgI8nIV",
        "outputId": "59804897-9c7c-4287-b253-276c5177b818",
        "colab": {
          "base_uri": "https://localhost:8080/"
        }
      },
      "execution_count": 50,
      "outputs": [
        {
          "output_type": "stream",
          "name": "stdout",
          "text": [
            "Pokemon: Pikachu\n",
            "Type: Electric\n",
            "Weakness: Ground\n",
            "I am a Pokemon.\n",
            "I am Pikachu\n",
            "========================\n",
            "Pokemon: Charmander\n",
            "Type: Fire\n",
            "Weakness: Water, Ground and Rock\n",
            "I am a Pokemon.\n",
            "I am Charmander\n"
          ]
        }
      ]
    }
  ]
}