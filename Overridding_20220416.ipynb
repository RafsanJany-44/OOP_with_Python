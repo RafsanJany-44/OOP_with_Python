{
  "nbformat": 4,
  "nbformat_minor": 0,
  "metadata": {
    "colab": {
      "name": "Overridding_20220416.ipynb",
      "provenance": [],
      "authorship_tag": "ABX9TyNqGj/e/ModxObF1eKS0Ltk",
      "include_colab_link": true
    },
    "kernelspec": {
      "name": "python3",
      "display_name": "Python 3"
    },
    "language_info": {
      "name": "python"
    }
  },
  "cells": [
    {
      "cell_type": "markdown",
      "metadata": {
        "id": "view-in-github",
        "colab_type": "text"
      },
      "source": [
        "<a href=\"https://colab.research.google.com/github/RafsanJany-44/OOP_with_Python/blob/master/Overridding_20220416.ipynb\" target=\"_parent\"><img src=\"https://colab.research.google.com/assets/colab-badge.svg\" alt=\"Open In Colab\"/></a>"
      ]
    },
    {
      "cell_type": "markdown",
      "source": [
        "Task - 1\n",
        "<br>\n",
        "Let’s Play with Numbers!!!\n",
        "Write the ComplexNumber class so that the following code generates the output below.\n"
      ],
      "metadata": {
        "id": "DsSs93rDso7i"
      }
    },
    {
      "cell_type": "code",
      "execution_count": null,
      "metadata": {
        "id": "oam6oL6urufb"
      },
      "outputs": [],
      "source": [
        "class RealNumber:\n",
        "\n",
        "  def __init__(self, r=0):\n",
        "    self.__realValue = r\n",
        "\n",
        "  def getRealValue(self):\n",
        "    return self.__realValue\n",
        "\n",
        "  def setRealValue(self, r):\n",
        "    self.__realValue = r\n",
        "\n",
        "  def __str__(self):\n",
        "    return 'RealPart: '+str(self.getRealValue())\n",
        "\n",
        "class ComplexNumber(RealNumber):\n",
        "  \n",
        "  def __init__(self,real=1.0,img=1.0):\n",
        "    super().__init__(real)\n",
        "    self.img=img\n",
        "  def __str__(self):\n",
        "    return super().__str__()+\"\\nImagenary Part: \"+str(self.img)\n",
        "\n",
        "\n",
        "\n",
        "\n",
        "cn1 = ComplexNumber()\n",
        "print(cn1)\n",
        "print('---------')\n",
        "cn2 = ComplexNumber(5,7)\n",
        "print(cn2)"
      ]
    },
    {
      "cell_type": "markdown",
      "source": [
        "Task - 2"
      ],
      "metadata": {
        "id": "4pQyOXe43Qrm"
      }
    },
    {
      "cell_type": "code",
      "source": [
        "\n",
        "class RealNumber:\n",
        "    def __init__(self, number=0):\n",
        "        self.number = number\n",
        "    def __add__(self, anotherRealNumber):\n",
        "        return self.number + anotherRealNumber.number\n",
        "    def __sub__(self, anotherRealNumber):\n",
        "        return self.number - anotherRealNumber.number\n",
        "    def __str__(self):\n",
        "        return str(self.number)\n",
        "    \n",
        "class ComplexNumber(RealNumber):\n",
        "    def __init__(self, number, i):\n",
        "        super().__init__(number)\n",
        "        self.i = i\n",
        "    def __str__(self):\n",
        "        return super().__str__()+\" + \"+ str(self.i)+\"i\"\n",
        "    def __add__(self, complexnumber):\n",
        "        return str(super().__add__(complexnumber.number))+\" + \"+str(self.i + complexnumber.i)+\"i\"\n",
        "    def __sub__(self, complexnumber):\n",
        "        if complexnumber.i > self.i:\n",
        "            return str(super().__sub__(complexnumber.number))+\" - \"+str(complexnumber.i-self.i)+\"i\"\n",
        "        else:\n",
        "            return str(super().__sub__(complexnumber.number)+\" + \"+ str(self.i-complexnumber.i))\n",
        "    \n",
        "    \n",
        "r1 = RealNumber(3)\n",
        "r2 = RealNumber(5)\n",
        "print(r1+r2)\n",
        "cn1 = ComplexNumber(2, 1)\n",
        "print(cn1)\n",
        "cn2 = ComplexNumber(r1, 5)\n",
        "print(cn2)\n",
        "cn3 = cn1 + cn2\n",
        "print(cn3)\n",
        "cn4 = cn1 - cn2\n",
        "print(cn4)"
      ],
      "metadata": {
        "colab": {
          "base_uri": "https://localhost:8080/"
        },
        "id": "bHdiXv5S3RcR",
        "outputId": "c55a47c1-1c13-4182-930b-8648eb24667a"
      },
      "execution_count": 21,
      "outputs": [
        {
          "output_type": "stream",
          "name": "stdout",
          "text": [
            "8\n",
            "2 + 1i\n",
            "3 + 5i\n",
            "5 + 6i\n",
            "-1 - 4i\n"
          ]
        }
      ]
    },
    {
      "cell_type": "markdown",
      "source": [
        "#task 3"
      ],
      "metadata": {
        "id": "40KCQMbR2Qq3"
      }
    },
    {
      "cell_type": "code",
      "source": [
        "\n",
        "class Account:\n",
        "    def __init__(self, balance):\n",
        "        self._balance = balance\n",
        " \n",
        "    def getBalance(self):\n",
        "        return self._balance\n",
        "\n",
        "class CheckingAccount(Account):\n",
        "\n",
        "    count_Accounts = 0\n",
        "    def __init__(self, b = 0):\n",
        "        super().__init__(b)\n",
        "        CheckingAccount.count_Accounts += 1\n",
        "\n",
        "    def __str__(self):\n",
        "        if self.getBalance() != 0:\n",
        "            return f\"Account Balance: {self.getBalance():.2f}\"\n",
        "        else:\n",
        "            return \"Account Balance:{}\".format(self.getBalance())\n",
        "\n",
        "print('Number of Checking Accounts: ', CheckingAccount.count_Accounts)\n",
        "print(CheckingAccount())\n",
        "print(CheckingAccount(100.00))\n",
        "print(CheckingAccount(200.00))\n",
        "print('Number of Checking Accounts: ', CheckingAccount.count_Accounts)"
      ],
      "metadata": {
        "id": "JBhidthj2SSq",
        "outputId": "2911d90b-643e-409a-b0e1-0ae2cfcd5855",
        "colab": {
          "base_uri": "https://localhost:8080/"
        }
      },
      "execution_count": 27,
      "outputs": [
        {
          "output_type": "stream",
          "name": "stdout",
          "text": [
            "Number of Checking Accounts:  0\n",
            "Account Balance:0\n",
            "Account Balance: 100.00\n",
            "Account Balance: 200.00\n",
            "Number of Checking Accounts:  3\n"
          ]
        }
      ]
    }
  ]
}