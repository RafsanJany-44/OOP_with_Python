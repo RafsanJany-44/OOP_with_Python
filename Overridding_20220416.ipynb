{
  "nbformat": 4,
  "nbformat_minor": 0,
  "metadata": {
    "colab": {
      "name": "Overridding_20220416.ipynb",
      "provenance": [],
      "authorship_tag": "ABX9TyPVR8NXW03U3ytUV49UUp78",
      "include_colab_link": true
    },
    "kernelspec": {
      "name": "python3",
      "display_name": "Python 3"
    },
    "language_info": {
      "name": "python"
    }
  },
  "cells": [
    {
      "cell_type": "markdown",
      "metadata": {
        "id": "view-in-github",
        "colab_type": "text"
      },
      "source": [
        "<a href=\"https://colab.research.google.com/github/RafsanJany-44/OOP_with_Python/blob/master/Overridding_20220416.ipynb\" target=\"_parent\"><img src=\"https://colab.research.google.com/assets/colab-badge.svg\" alt=\"Open In Colab\"/></a>"
      ]
    },
    {
      "cell_type": "markdown",
      "source": [
        "Task - 1\n",
        "<br>\n",
        "Let’s Play with Numbers!!!\n",
        "Write the ComplexNumber class so that the following code generates the output below.\n"
      ],
      "metadata": {
        "id": "DsSs93rDso7i"
      }
    },
    {
      "cell_type": "code",
      "execution_count": 2,
      "metadata": {
        "id": "oam6oL6urufb",
        "outputId": "b095947a-5355-4e27-fd70-7f5c9a59eed5",
        "colab": {
          "base_uri": "https://localhost:8080/"
        }
      },
      "outputs": [
        {
          "output_type": "stream",
          "name": "stdout",
          "text": [
            "Imagenary Part: 1.0\n",
            "---------\n",
            "Imagenary Part: 7\n"
          ]
        }
      ],
      "source": [
        "class RealNumber:\n",
        "\n",
        "  def __init__(self, r=0):\n",
        "    self.__realValue = r\n",
        "\n",
        "  def getRealValue(self):\n",
        "    return self.__realValue\n",
        "\n",
        "  def setRealValue(self, r):\n",
        "    self.__realValue = r\n",
        "\n",
        "  def __str__(self):\n",
        "    return 'RealPart: '+str(self.getRealValue())\n",
        "\n",
        "class ComplexNumber(RealNumber):\n",
        "  \n",
        "  def __init__(self,real=1.0,img=1.0):\n",
        "    super().__init__(real)\n",
        "    self.img=img\n",
        "  def __str__(self):\n",
        "    return \"Imagenary Part: \"+str(self.img)\n",
        "\n",
        "\n",
        "\n",
        "\n",
        "cn1 = ComplexNumber()\n",
        "print(cn1)\n",
        "print('---------')\n",
        "cn2 = ComplexNumber(5,7)\n",
        "print(cn2)"
      ]
    }
  ]
}