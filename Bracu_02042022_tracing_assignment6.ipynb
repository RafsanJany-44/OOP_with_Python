{
  "nbformat": 4,
  "nbformat_minor": 0,
  "metadata": {
    "colab": {
      "name": "Bracu_02042022_tracing_assignment6.ipynb",
      "provenance": [],
      "authorship_tag": "ABX9TyOXdsALWk9Cav51H9xysbL0",
      "include_colab_link": true
    },
    "kernelspec": {
      "name": "python3",
      "display_name": "Python 3"
    },
    "language_info": {
      "name": "python"
    }
  },
  "cells": [
    {
      "cell_type": "markdown",
      "metadata": {
        "id": "view-in-github",
        "colab_type": "text"
      },
      "source": [
        "<a href=\"https://colab.research.google.com/github/RafsanJany-44/OOP_with_Python/blob/master/Bracu_02042022_tracing_assignment6.ipynb\" target=\"_parent\"><img src=\"https://colab.research.google.com/assets/colab-badge.svg\" alt=\"Open In Colab\"/></a>"
      ]
    },
    {
      "cell_type": "markdown",
      "source": [
        "Task 2\n",
        "Write the Assassin class so that the given code provides the expected output.\n",
        "1. Create Assassin class\n",
        "2. Create 1 class variable\n",
        "3. Create1classmethodtitled‘failureRate()’\n",
        "4. Create1classmethodtitled‘failurePercentage()’\n",
        "5. Maximum success_rate is 100"
      ],
      "metadata": {
        "id": "z2bMXcnHDJPC"
      }
    },
    {
      "cell_type": "code",
      "execution_count": 14,
      "metadata": {
        "id": "bTMunA9CC9fI",
        "colab": {
          "base_uri": "https://localhost:8080/"
        },
        "outputId": "0f962d27-eb12-4ebd-9876-8f1bb8f7f0a2"
      },
      "outputs": [
        {
          "output_type": "stream",
          "name": "stdout",
          "text": [
            "Name: John Wick\n",
            "Success rate: 100 %\n",
            "Total number of Assassin: 1\n",
            "================================\n",
            "Name: Nagisa\n",
            "Success rate: 80 %\n",
            "Total number of Assassin: 2\n",
            "================================\n",
            "Name: Akabane\n",
            "Success rate: 90 %\n",
            "Total number of Assassin: 3\n"
          ]
        }
      ],
      "source": [
        "class Assassin:\n",
        "  count=0\n",
        "  def __init__(self,name,rate):\n",
        "    self.name=name\n",
        "    self.rate=rate\n",
        "    Assassin.count+=1\n",
        "\n",
        "  \n",
        "  @classmethod\n",
        "  def failureRate(cls,name,rate):\n",
        "    return cls(name,100-rate)\n",
        "\n",
        "\n",
        "\n",
        "  @classmethod\n",
        "  def failurePercentage(cls,name,rate):\n",
        "    rate=int(rate.replace(\"%\",\"\"))\n",
        "    return cls(name,100-rate)\n",
        "\n",
        "  def printDetails(self):\n",
        "    print(\"Name:\",self.name)\n",
        "    print(\"Success rate:\",self.rate,\"%\")\n",
        "    print(\"Total number of Assassin:\",Assassin.count)\n",
        "\n",
        "john_wick = Assassin('John Wick', 100) \n",
        "john_wick.printDetails() \n",
        "print('================================')\n",
        "nagisa = Assassin.failureRate('Nagisa',20) \n",
        "nagisa.printDetails() \n",
        "print('================================') \n",
        "akabane = Assassin.failurePercentage(\"Akabane\", \"10%\") \n",
        "akabane.printDetails()"
      ]
    },
    {
      "cell_type": "markdown",
      "source": [
        "Task 3<br>\n",
        "Implement the design of the Passenger class so that the following output is produced:\n",
        "The assumption is Bus base-fare is 450 taka. A passenger can carry upto 20 kg for free. 50 taka will be added if bag weight is between 21 and 50 kg. 100 taka will be added if bag weight is greater than 50 kg."
      ],
      "metadata": {
        "id": "oVuBDDrXG7VY"
      }
    },
    {
      "cell_type": "code",
      "source": [
        "class Passenger:\n",
        "\n",
        "  count=0\n",
        "\n",
        "\n",
        "  def __init__(self,name):\n",
        "    self.name=name\n",
        "    Passenger.count+=1\n",
        "  \n",
        "  def set_bag_weight(self,weight):\n",
        "    self.bag_weight=weight\n",
        "\n",
        "  def printDetail(self):\n",
        "    if 21<=self.bag_weight<=50:\n",
        "      bus_fare=450+50\n",
        "    elif self.bag_weight>=50:\n",
        "      bus_fare=450+100\n",
        "    else:\n",
        "      bus_fare=450\n",
        "    print(\"Name:\",self.name)\n",
        "    print(\"Bus fare:\",bus_fare)\n",
        "\n",
        "  \n",
        "\n",
        "\n",
        "\n",
        "\n",
        "print(\"Total Passenger:\", Passenger.count) \n",
        "p1 = Passenger('Jack') \n",
        "p1.set_bag_weight(90)\n",
        "p2 = Passenger('Caro') \n",
        "p2.set_bag_weight(10)\n",
        "p3 = Passenger('Mike') \n",
        "p3.set_bag_weight(25) \n",
        "print(\"=========================\") \n",
        "p1.printDetail() \n",
        "print(\"=========================\") \n",
        "p2.printDetail() \n",
        "print(\"=========================\") \n",
        "p3.printDetail() \n",
        "print(\"=========================\") \n",
        "print('Total Passenger:', Passenger.count)"
      ],
      "metadata": {
        "colab": {
          "base_uri": "https://localhost:8080/"
        },
        "id": "4y7Hrlq_G4mP",
        "outputId": "81c62ae0-e592-4b78-c806-4099b4cf3807"
      },
      "execution_count": 23,
      "outputs": [
        {
          "output_type": "stream",
          "name": "stdout",
          "text": [
            "Total Passenger: 0\n",
            "=========================\n",
            "Name: Jack\n",
            "Bus fare: 550\n",
            "=========================\n",
            "Name: Caro\n",
            "Bus fare: 450\n",
            "=========================\n",
            "Name: Mike\n",
            "Bus fare: 500\n",
            "=========================\n",
            "Total Passenger: 3\n"
          ]
        }
      ]
    },
    {
      "cell_type": "markdown",
      "source": [
        "Task 4\n",
        "Implement the design of the Travel class so that the following output is produced:"
      ],
      "metadata": {
        "id": "KCVyKIiZKu6L"
      }
    },
    {
      "cell_type": "code",
      "source": [
        "class Travel:\n",
        "  count=0\n",
        "\n",
        "  def __init__(self,s,d):\n",
        "    self.s=s\n",
        "    self.d=d\n",
        "    self.time=1\n",
        "    Travel.count+=1\n",
        "\n",
        "  def set_time(self,time):\n",
        "    self.time=time\n",
        "\n",
        "  def set_destination(self,d):\n",
        "    self.d=d\n",
        "\n",
        "  def set_source(self,s):\n",
        "    self.s=s \n",
        "\n",
        "  def display_travel_info(self):\n",
        "    return \"Source: \"+self.s+\"\\nDestination: \"+self.d+\"\\nFlight Time: \"+str(self.time)\n",
        "  \n",
        "print('No. of Traveller =', Travel.count) \n",
        "print(\"=======================\") \n",
        "\n",
        "t1 = Travel(\"Dhaka\",\"India\") \n",
        "print(t1.display_travel_info())\n",
        "print(\"=======================\") \n",
        "t2 = Travel(\"Kuala Lampur\",\"Dhaka\") \n",
        "t2.set_time(23) \n",
        "print(t2.display_travel_info()) \n",
        "print(\"=======================\") \n",
        "t3 = Travel(\"Dhaka\",\"New_Zealand\") \n",
        "t3.set_time(15) \n",
        "t3.set_destination(\"Germany\") \n",
        "print(t3.display_travel_info()) \n",
        "print(\"=======================\") \n",
        "t4 = Travel(\"Dhaka\",\"India\") \n",
        "t4.set_time(9) \n",
        "t4.set_source(\"Malaysia\") \n",
        "t4.set_destination(\"Canada\") \n",
        "print(t4.display_travel_info()) \n",
        "print(\"=======================\") \n",
        "print('No. of Traveller =', Travel.count)"
      ],
      "metadata": {
        "colab": {
          "base_uri": "https://localhost:8080/"
        },
        "id": "2NLtRNthKzQo",
        "outputId": "ff1d215a-9fa2-4427-b058-9fbf8fd9aabf"
      },
      "execution_count": 28,
      "outputs": [
        {
          "output_type": "stream",
          "name": "stdout",
          "text": [
            "No. of Traveller = 0\n",
            "=======================\n",
            "Source: Dhaka\n",
            "Destination: India\n",
            "Flight Time: 1\n",
            "=======================\n",
            "Source: Kuala Lampur\n",
            "Destination: Dhaka\n",
            "Flight Time: 23\n",
            "=======================\n",
            "Source: Dhaka\n",
            "Destination: Germany\n",
            "Flight Time: 15\n",
            "=======================\n",
            "Source: Malaysia\n",
            "Destination: Canada\n",
            "Flight Time: 9\n",
            "=======================\n",
            "No. of Traveller = 4\n"
          ]
        }
      ]
    },
    {
      "cell_type": "markdown",
      "source": [
        "Task 5\n",
        "Create an Employee Class that will have\n",
        "● Two instance variable: name and workingPeriod\n",
        "● A class method named employeeByJoiningYear():\n",
        "o To create an Employee object by joining year for calculating the working\n",
        "period\n",
        "o It will have two Parameter name and year\n",
        "● A static method experienceCheck() to check if an Employee is experienced or not\n",
        "o It will take working period and gender as parameter\n",
        "o If an employee’s working period is less than 3, he or she is not experienced"
      ],
      "metadata": {
        "id": "uNnuqJqyhstg"
      }
    },
    {
      "cell_type": "code",
      "source": [
        "class Employee:\n",
        "  def __init__(self,name,workingPeriod):\n",
        "    self.name=name\n",
        "    self.workingPeriod=workingPeriod\n",
        "\n",
        "  @classmethod\n",
        "  def employeeByJoiningYear(cls,name,year):\n",
        "    return cls(name,(2021-year))\n",
        "\n",
        "  @classmethod\n",
        "  def experienceCheck(cls,workingPeriod,gender):\n",
        "    if workingPeriod < 3:\n",
        "      if gender is  \"male\":\n",
        "        return 'He is not experienced'\n",
        "      elif gender is \"female\":\n",
        "        return \"She is not experienced\"\n",
        "    else:\n",
        "      if gender is  \"male\":\n",
        "        return 'He is experienced'\n",
        "      elif gender is \"female\":\n",
        "        return \"She is experienced\"\n",
        "\n",
        "employee1 = Employee('Dororo', 3)\n",
        "employee2 = Employee.employeeByJoiningYear('Harry', 2016)\n",
        "print(employee1.workingPeriod)\n",
        "print(employee2.workingPeriod)\n",
        "print(employee1.name)\n",
        "print(employee2.name)\n",
        "print(Employee.experienceCheck(2, \"male\"))\n",
        "print(Employee.experienceCheck(3, \"female\"))"
      ],
      "metadata": {
        "colab": {
          "base_uri": "https://localhost:8080/"
        },
        "id": "kAuGIuQNhwez",
        "outputId": "fefd4b2a-c4c7-4e97-da99-bd1d6fc56fba"
      },
      "execution_count": 21,
      "outputs": [
        {
          "output_type": "stream",
          "name": "stdout",
          "text": [
            "3\n",
            "5\n",
            "Dororo\n",
            "Harry\n",
            "He is not experienced\n",
            "She is experienced\n"
          ]
        }
      ]
    },
    {
      "cell_type": "markdown",
      "source": [
        "Task 6\n",
        "Implement the design of the Laptop class so that the following output is produced"
      ],
      "metadata": {
        "id": "cJMz_qtZogMZ"
      }
    },
    {
      "cell_type": "code",
      "source": [
        "class Laptop:\n",
        "  laptopCount=0\n",
        "  def __init__(self,name,ammount):\n",
        "    self.name=name\n",
        "    self.count=ammount\n",
        "    Laptop.laptopCount=Laptop.laptopCount+ammount\n",
        "  \n",
        "  @classmethod\n",
        "  def advantage(cls):\n",
        "    print(\"Laptops are portable\")\n",
        "  \n",
        "  @classmethod\n",
        "  def resetCount(cls):\n",
        "    Laptop.laptopCount=0\n",
        "\n",
        "lenovo = Laptop(\"Lenovo\", 5);\n",
        "dell = Laptop(\"Dell\", 7);\n",
        "print(lenovo.name, lenovo.count)\n",
        "print(dell.name, dell.count)\n",
        "print(\"Total number of Laptops\", Laptop.laptopCount)\n",
        "Laptop.advantage()\n",
        "Laptop.resetCount()\n",
        "print(\"Total number of Laptops\", Laptop.laptopCount)"
      ],
      "metadata": {
        "colab": {
          "base_uri": "https://localhost:8080/"
        },
        "id": "XrtGMUInohIP",
        "outputId": "54f527ae-c931-4a3c-9a23-07034ad1367b"
      },
      "execution_count": 31,
      "outputs": [
        {
          "output_type": "stream",
          "name": "stdout",
          "text": [
            "Lenovo 5\n",
            "Dell 7\n",
            "Total number of Laptops 12\n",
            "Laptops are portable\n",
            "Total number of Laptops 0\n"
          ]
        }
      ]
    },
    {
      "cell_type": "markdown",
      "source": [
        "Task 7\n",
        "Design Cat class for the following code to get the output as shown.\n",
        "You have already solved this problem in assignment 4 using constructor overloading.\n",
        "Now, solve this again but this time DO NOT USE CONSTRUCTOR OVERLOADING.\n",
        "Hint: You will have to use classmethods."
      ],
      "metadata": {
        "id": "J1hJcuxbrB5G"
      }
    },
    {
      "cell_type": "code",
      "source": [
        "class Cat:\n",
        "  Number_of_cats=0\n",
        "  #color=''\n",
        "  #act=''\n",
        "  def __init__(self,color=\"White\",act=\"sitting\"):\n",
        "    self.color=color\n",
        "    self.act=act\n",
        "    Cat.Number_of_cats+=1\n",
        "  \n",
        "  @classmethod\n",
        "  def no_parameter(cls):\n",
        "    return cls(Cat(\"White\",\"sitting\"))\n",
        "  \n",
        "  @classmethod\n",
        "  def first_parameter(cls,clr):\n",
        "    return cls(Cat(clr,\"\"))\n",
        "\n",
        "  @classmethod\n",
        "  def second_parameter(cls,act):\n",
        "    return cls(Cat(\"\",act))\n",
        "\n",
        "  def changeColor(self,color):\n",
        "    self.color=color\n",
        "\n",
        "  def printCat(self):\n",
        "    print(self.color,\"cat is\",self.act)\n",
        "    #print(\"Heelo world\")\n",
        "\n",
        "\n",
        "\n",
        "\n",
        "print(\"Total number of cats:\", Cat.Number_of_cats)\n",
        "c1 = Cat.no_parameter()\n",
        "c2 = Cat.first_parameter(\"Black\")\n",
        "c3 = Cat(\"Brown\", \"jumping\")\n",
        "c4 = Cat(\"Red\", \"purring\")\n",
        "c5 = Cat.second_parameter(\"playing\")\n",
        "print(\"=======================\")\n",
        "c1.printCat()\n",
        "c2.printCat()\n",
        "c3.printCat()\n",
        "c4.printCat()\n",
        "c5.printCat()\n",
        "c1.changeColor(\"Blue\")\n",
        "c3.changeColor(\"Purple\")\n",
        "c1.printCat()\n",
        "c3.printCat()\n",
        "print(\"=======================\")\n",
        "print(\"Total number of cats:\", Cat.Number_of_cats)"
      ],
      "metadata": {
        "colab": {
          "base_uri": "https://localhost:8080/"
        },
        "id": "lgp_AEKCrCm7",
        "outputId": "fa94b324-fc3f-4c40-e7e0-82950c3f85a7"
      },
      "execution_count": 16,
      "outputs": [
        {
          "output_type": "stream",
          "name": "stdout",
          "text": [
            "Total number of cats: 0\n",
            "=======================\n",
            "<__main__.Cat object at 0x7f4f11f9d710> cat is sitting\n",
            "<__main__.Cat object at 0x7f4f11f9d450> cat is sitting\n",
            "Brown cat is jumping\n",
            "Red cat is purring\n",
            "<__main__.Cat object at 0x7f4f11f9d890> cat is sitting\n",
            "Blue cat is sitting\n",
            "Purple cat is jumping\n",
            "=======================\n",
            "Total number of cats: 8\n"
          ]
        }
      ]
    },
    {
      "cell_type": "code",
      "source": [
        ""
      ],
      "metadata": {
        "id": "CnUKV6jj934F"
      },
      "execution_count": null,
      "outputs": []
    }
  ]
}