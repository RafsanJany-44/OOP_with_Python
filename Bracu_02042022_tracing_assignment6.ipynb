{
  "nbformat": 4,
  "nbformat_minor": 0,
  "metadata": {
    "colab": {
      "name": "Bracu_02042022_tracing_assignment6.ipynb",
      "provenance": [],
      "authorship_tag": "ABX9TyPEElvl7GEHXo+/IMCjc+5w",
      "include_colab_link": true
    },
    "kernelspec": {
      "name": "python3",
      "display_name": "Python 3"
    },
    "language_info": {
      "name": "python"
    }
  },
  "cells": [
    {
      "cell_type": "markdown",
      "metadata": {
        "id": "view-in-github",
        "colab_type": "text"
      },
      "source": [
        "<a href=\"https://colab.research.google.com/github/RafsanJany-44/OOP_with_Python/blob/master/Bracu_02042022_tracing_assignment6.ipynb\" target=\"_parent\"><img src=\"https://colab.research.google.com/assets/colab-badge.svg\" alt=\"Open In Colab\"/></a>"
      ]
    },
    {
      "cell_type": "markdown",
      "source": [
        "Task 2\n",
        "Write the Assassin class so that the given code provides the expected output.\n",
        "1. Create Assassin class\n",
        "2. Create 1 class variable\n",
        "3. Create1classmethodtitled‘failureRate()’\n",
        "4. Create1classmethodtitled‘failurePercentage()’\n",
        "5. Maximum success_rate is 100"
      ],
      "metadata": {
        "id": "z2bMXcnHDJPC"
      }
    },
    {
      "cell_type": "code",
      "execution_count": 17,
      "metadata": {
        "id": "bTMunA9CC9fI",
        "colab": {
          "base_uri": "https://localhost:8080/",
          "height": 448
        },
        "outputId": "71883909-232e-4a1c-8e52-7f65a48f0224"
      },
      "outputs": [
        {
          "output_type": "stream",
          "name": "stdout",
          "text": [
            "Name: John Wick\n",
            "Success rate: 100 %\n",
            "Total number of Assassin: 1\n",
            "================================\n"
          ]
        },
        {
          "output_type": "error",
          "ename": "AttributeError",
          "evalue": "ignored",
          "traceback": [
            "\u001b[0;31m---------------------------------------------------------------------------\u001b[0m",
            "\u001b[0;31mAttributeError\u001b[0m                            Traceback (most recent call last)",
            "\u001b[0;32m<ipython-input-17-09d3de770553>\u001b[0m in \u001b[0;36m<module>\u001b[0;34m()\u001b[0m\n\u001b[1;32m     32\u001b[0m \u001b[0mjohn_wick\u001b[0m\u001b[0;34m.\u001b[0m\u001b[0mprintDetails\u001b[0m\u001b[0;34m(\u001b[0m\u001b[0;34m)\u001b[0m\u001b[0;34m\u001b[0m\u001b[0;34m\u001b[0m\u001b[0m\n\u001b[1;32m     33\u001b[0m \u001b[0mprint\u001b[0m\u001b[0;34m(\u001b[0m\u001b[0;34m'================================'\u001b[0m\u001b[0;34m)\u001b[0m\u001b[0;34m\u001b[0m\u001b[0;34m\u001b[0m\u001b[0m\n\u001b[0;32m---> 34\u001b[0;31m \u001b[0mnagisa\u001b[0m \u001b[0;34m=\u001b[0m \u001b[0mAssassin\u001b[0m\u001b[0;34m.\u001b[0m\u001b[0mfailureRate\u001b[0m\u001b[0;34m(\u001b[0m\u001b[0;34m'Nagisa'\u001b[0m\u001b[0;34m,\u001b[0m\u001b[0;36m20\u001b[0m\u001b[0;34m)\u001b[0m\u001b[0;34m\u001b[0m\u001b[0;34m\u001b[0m\u001b[0m\n\u001b[0m\u001b[1;32m     35\u001b[0m \u001b[0mnagisa\u001b[0m\u001b[0;34m.\u001b[0m\u001b[0mprintDetails\u001b[0m\u001b[0;34m(\u001b[0m\u001b[0;34m)\u001b[0m\u001b[0;34m\u001b[0m\u001b[0;34m\u001b[0m\u001b[0m\n\u001b[1;32m     36\u001b[0m \u001b[0mprint\u001b[0m\u001b[0;34m(\u001b[0m\u001b[0;34m'================================'\u001b[0m\u001b[0;34m)\u001b[0m\u001b[0;34m\u001b[0m\u001b[0;34m\u001b[0m\u001b[0m\n",
            "\u001b[0;32m<ipython-input-17-09d3de770553>\u001b[0m in \u001b[0;36mfailureRate\u001b[0;34m(self, n, rate)\u001b[0m\n\u001b[1;32m     16\u001b[0m \u001b[0;34m\u001b[0m\u001b[0m\n\u001b[1;32m     17\u001b[0m   \u001b[0;32mdef\u001b[0m \u001b[0mfailureRate\u001b[0m\u001b[0;34m(\u001b[0m\u001b[0mself\u001b[0m\u001b[0;34m,\u001b[0m\u001b[0mn\u001b[0m\u001b[0;34m,\u001b[0m\u001b[0mrate\u001b[0m\u001b[0;34m=\u001b[0m\u001b[0;36m0\u001b[0m\u001b[0;34m)\u001b[0m\u001b[0;34m:\u001b[0m\u001b[0;34m\u001b[0m\u001b[0;34m\u001b[0m\u001b[0m\n\u001b[0;32m---> 18\u001b[0;31m     \u001b[0mself\u001b[0m\u001b[0;34m.\u001b[0m\u001b[0mnae\u001b[0m\u001b[0;34m=\u001b[0m\u001b[0mn\u001b[0m\u001b[0;34m\u001b[0m\u001b[0;34m\u001b[0m\u001b[0m\n\u001b[0m\u001b[1;32m     19\u001b[0m     \u001b[0mself\u001b[0m\u001b[0;34m.\u001b[0m\u001b[0msuc_rate\u001b[0m\u001b[0;34m=\u001b[0m\u001b[0mrate\u001b[0m\u001b[0;34m\u001b[0m\u001b[0;34m\u001b[0m\u001b[0m\n\u001b[1;32m     20\u001b[0m     \u001b[0mAssassin\u001b[0m\u001b[0;34m.\u001b[0m\u001b[0mtotal\u001b[0m\u001b[0;34m+=\u001b[0m\u001b[0;36m1\u001b[0m\u001b[0;34m\u001b[0m\u001b[0;34m\u001b[0m\u001b[0m\n",
            "\u001b[0;31mAttributeError\u001b[0m: 'str' object has no attribute 'nae'"
          ]
        }
      ],
      "source": [
        "class Assassin:\n",
        "\n",
        "  total=0\n",
        "\n",
        "  def __init__(self,n,suc_rate):\n",
        "    self.nae=n\n",
        "    self.suc_rate=suc_rate\n",
        "    Assassin.total+=1\n",
        "\n",
        "  \n",
        "  def failurePercentage(self,n,rate):\n",
        "    self.nae=n\n",
        "    self.suc_rate=int(rate.replace(\"%\",\"\"))\n",
        "    Assassin.total+=1\n",
        "\n",
        "\n",
        "  def failureRate(self,n,rate=0):\n",
        "    self.nae=n\n",
        "    self.suc_rate=rate\n",
        "    Assassin.total+=1\n",
        "\n",
        "\n",
        "\n",
        "  def printDetails(self):\n",
        "    print(\"Name:\",self.nae)\n",
        "    print(\"Success rate:\", self.suc_rate,\"%\")\n",
        "    print(\"Total number of Assassin:\",Assassin.total)\n",
        "\n",
        "\n",
        "\n",
        "john_wick = Assassin('John Wick', 100) \n",
        "john_wick.printDetails() \n",
        "print('================================')\n",
        "nagisa = Assassin.failureRate('Nagisa',20) \n",
        "nagisa.printDetails() \n",
        "print('================================') \n",
        "akabane = Assassin.failurePercentage(\"Akabane\", \"10%\") \n",
        "akabane.printDetails()"
      ]
    },
    {
      "cell_type": "markdown",
      "source": [
        "Task 3<br>\n",
        "Implement the design of the Passenger class so that the following output is produced:\n",
        "The assumption is Bus base-fare is 450 taka. A passenger can carry upto 20 kg for free. 50 taka will be added if bag weight is between 21 and 50 kg. 100 taka will be added if bag weight is greater than 50 kg."
      ],
      "metadata": {
        "id": "oVuBDDrXG7VY"
      }
    },
    {
      "cell_type": "code",
      "source": [
        "class Passenger:\n",
        "\n",
        "  count=0\n",
        "\n",
        "\n",
        "  def __init__(self,name):\n",
        "    self.name=name\n",
        "    Passenger.count+=1\n",
        "  \n",
        "  def set_bag_weight(self,weight):\n",
        "    self.bag_weight=weight\n",
        "\n",
        "  def printDetail(self):\n",
        "    if 21<=self.bag_weight<=50:\n",
        "      bus_fare=450+50\n",
        "    elif self.bag_weight>=50:\n",
        "      bus_fare=450+100\n",
        "    else:\n",
        "      bus_fare=450\n",
        "    print(\"Name:\",self.name)\n",
        "    print(\"Bus fare:\",bus_fare)\n",
        "\n",
        "  \n",
        "\n",
        "\n",
        "\n",
        "\n",
        "print(\"Total Passenger:\", Passenger.count) \n",
        "p1 = Passenger('Jack') \n",
        "p1.set_bag_weight(90)\n",
        "p2 = Passenger('Caro') \n",
        "p2.set_bag_weight(10)\n",
        "p3 = Passenger('Mike') \n",
        "p3.set_bag_weight(25) \n",
        "print(\"=========================\") \n",
        "p1.printDetail() \n",
        "print(\"=========================\") \n",
        "p2.printDetail() \n",
        "print(\"=========================\") \n",
        "p3.printDetail() \n",
        "print(\"=========================\") \n",
        "print('Total Passenger:', Passenger.count)"
      ],
      "metadata": {
        "colab": {
          "base_uri": "https://localhost:8080/"
        },
        "id": "4y7Hrlq_G4mP",
        "outputId": "81c62ae0-e592-4b78-c806-4099b4cf3807"
      },
      "execution_count": 23,
      "outputs": [
        {
          "output_type": "stream",
          "name": "stdout",
          "text": [
            "Total Passenger: 0\n",
            "=========================\n",
            "Name: Jack\n",
            "Bus fare: 550\n",
            "=========================\n",
            "Name: Caro\n",
            "Bus fare: 450\n",
            "=========================\n",
            "Name: Mike\n",
            "Bus fare: 500\n",
            "=========================\n",
            "Total Passenger: 3\n"
          ]
        }
      ]
    },
    {
      "cell_type": "markdown",
      "source": [
        "Task 4\n",
        "Implement the design of the Travel class so that the following output is produced:"
      ],
      "metadata": {
        "id": "KCVyKIiZKu6L"
      }
    },
    {
      "cell_type": "code",
      "source": [
        "class Travel:\n",
        "  count=0\n",
        "\n",
        "  def __init__(self,s,d):\n",
        "    self.s=s\n",
        "    self.d=d\n",
        "    self.time=1\n",
        "    Travel.count+=1\n",
        "\n",
        "  def set_time(self,time):\n",
        "    self.time=time\n",
        "\n",
        "  def set_destination(self,d):\n",
        "    self.d=d\n",
        "\n",
        "  def set_source(self,s):\n",
        "    self.s=s \n",
        "\n",
        "  def display_travel_info(self):\n",
        "    return \"Source: \"+self.s+\"\\nDestination: \"+self.d+\"\\nFlight Time: \"+str(self.time)\n",
        "  \n",
        "\n",
        "\n",
        "\n",
        "\n",
        "\n",
        "\n",
        "\n",
        "\n",
        "print('No. of Traveller =', Travel.count) \n",
        "print(\"=======================\") \n",
        "\n",
        "t1 = Travel(\"Dhaka\",\"India\") \n",
        "print(t1.display_travel_info())\n",
        "print(\"=======================\") \n",
        "t2 = Travel(\"Kuala Lampur\",\"Dhaka\") \n",
        "t2.set_time(23) \n",
        "print(t2.display_travel_info()) \n",
        "print(\"=======================\") \n",
        "t3 = Travel(\"Dhaka\",\"New_Zealand\") \n",
        "t3.set_time(15) \n",
        "t3.set_destination(\"Germany\") \n",
        "print(t3.display_travel_info()) \n",
        "print(\"=======================\") \n",
        "t4 = Travel(\"Dhaka\",\"India\") \n",
        "t4.set_time(9) \n",
        "t4.set_source(\"Malaysia\") \n",
        "t4.set_destination(\"Canada\") \n",
        "print(t4.display_travel_info()) \n",
        "print(\"=======================\") \n",
        "print('No. of Traveller =', Travel.count)"
      ],
      "metadata": {
        "id": "2NLtRNthKzQo",
        "outputId": "ff1d215a-9fa2-4427-b058-9fbf8fd9aabf",
        "colab": {
          "base_uri": "https://localhost:8080/"
        }
      },
      "execution_count": 28,
      "outputs": [
        {
          "output_type": "stream",
          "name": "stdout",
          "text": [
            "No. of Traveller = 0\n",
            "=======================\n",
            "Source: Dhaka\n",
            "Destination: India\n",
            "Flight Time: 1\n",
            "=======================\n",
            "Source: Kuala Lampur\n",
            "Destination: Dhaka\n",
            "Flight Time: 23\n",
            "=======================\n",
            "Source: Dhaka\n",
            "Destination: Germany\n",
            "Flight Time: 15\n",
            "=======================\n",
            "Source: Malaysia\n",
            "Destination: Canada\n",
            "Flight Time: 9\n",
            "=======================\n",
            "No. of Traveller = 4\n"
          ]
        }
      ]
    }
  ]
}