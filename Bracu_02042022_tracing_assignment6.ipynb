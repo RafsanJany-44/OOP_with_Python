{
  "nbformat": 4,
  "nbformat_minor": 0,
  "metadata": {
    "colab": {
      "name": "Bracu_02042022_tracing_assignment6.ipynb",
      "provenance": [],
      "authorship_tag": "ABX9TyNJyeDZQZLXxIsmjI8ITRF2",
      "include_colab_link": true
    },
    "kernelspec": {
      "name": "python3",
      "display_name": "Python 3"
    },
    "language_info": {
      "name": "python"
    }
  },
  "cells": [
    {
      "cell_type": "markdown",
      "metadata": {
        "id": "view-in-github",
        "colab_type": "text"
      },
      "source": [
        "<a href=\"https://colab.research.google.com/github/RafsanJany-44/OOP_with_Python/blob/master/Bracu_02042022_tracing_assignment6.ipynb\" target=\"_parent\"><img src=\"https://colab.research.google.com/assets/colab-badge.svg\" alt=\"Open In Colab\"/></a>"
      ]
    },
    {
      "cell_type": "markdown",
      "source": [
        "Task 2\n",
        "Write the Assassin class so that the given code provides the expected output.\n",
        "1. Create Assassin class\n",
        "2. Create 1 class variable\n",
        "3. Create1classmethodtitled‘failureRate()’\n",
        "4. Create1classmethodtitled‘failurePercentage()’\n",
        "5. Maximum success_rate is 100"
      ],
      "metadata": {
        "id": "z2bMXcnHDJPC"
      }
    },
    {
      "cell_type": "code",
      "execution_count": 17,
      "metadata": {
        "id": "bTMunA9CC9fI",
        "colab": {
          "base_uri": "https://localhost:8080/",
          "height": 448
        },
        "outputId": "71883909-232e-4a1c-8e52-7f65a48f0224"
      },
      "outputs": [
        {
          "output_type": "stream",
          "name": "stdout",
          "text": [
            "Name: John Wick\n",
            "Success rate: 100 %\n",
            "Total number of Assassin: 1\n",
            "================================\n"
          ]
        },
        {
          "output_type": "error",
          "ename": "AttributeError",
          "evalue": "ignored",
          "traceback": [
            "\u001b[0;31m---------------------------------------------------------------------------\u001b[0m",
            "\u001b[0;31mAttributeError\u001b[0m                            Traceback (most recent call last)",
            "\u001b[0;32m<ipython-input-17-09d3de770553>\u001b[0m in \u001b[0;36m<module>\u001b[0;34m()\u001b[0m\n\u001b[1;32m     32\u001b[0m \u001b[0mjohn_wick\u001b[0m\u001b[0;34m.\u001b[0m\u001b[0mprintDetails\u001b[0m\u001b[0;34m(\u001b[0m\u001b[0;34m)\u001b[0m\u001b[0;34m\u001b[0m\u001b[0;34m\u001b[0m\u001b[0m\n\u001b[1;32m     33\u001b[0m \u001b[0mprint\u001b[0m\u001b[0;34m(\u001b[0m\u001b[0;34m'================================'\u001b[0m\u001b[0;34m)\u001b[0m\u001b[0;34m\u001b[0m\u001b[0;34m\u001b[0m\u001b[0m\n\u001b[0;32m---> 34\u001b[0;31m \u001b[0mnagisa\u001b[0m \u001b[0;34m=\u001b[0m \u001b[0mAssassin\u001b[0m\u001b[0;34m.\u001b[0m\u001b[0mfailureRate\u001b[0m\u001b[0;34m(\u001b[0m\u001b[0;34m'Nagisa'\u001b[0m\u001b[0;34m,\u001b[0m\u001b[0;36m20\u001b[0m\u001b[0;34m)\u001b[0m\u001b[0;34m\u001b[0m\u001b[0;34m\u001b[0m\u001b[0m\n\u001b[0m\u001b[1;32m     35\u001b[0m \u001b[0mnagisa\u001b[0m\u001b[0;34m.\u001b[0m\u001b[0mprintDetails\u001b[0m\u001b[0;34m(\u001b[0m\u001b[0;34m)\u001b[0m\u001b[0;34m\u001b[0m\u001b[0;34m\u001b[0m\u001b[0m\n\u001b[1;32m     36\u001b[0m \u001b[0mprint\u001b[0m\u001b[0;34m(\u001b[0m\u001b[0;34m'================================'\u001b[0m\u001b[0;34m)\u001b[0m\u001b[0;34m\u001b[0m\u001b[0;34m\u001b[0m\u001b[0m\n",
            "\u001b[0;32m<ipython-input-17-09d3de770553>\u001b[0m in \u001b[0;36mfailureRate\u001b[0;34m(self, n, rate)\u001b[0m\n\u001b[1;32m     16\u001b[0m \u001b[0;34m\u001b[0m\u001b[0m\n\u001b[1;32m     17\u001b[0m   \u001b[0;32mdef\u001b[0m \u001b[0mfailureRate\u001b[0m\u001b[0;34m(\u001b[0m\u001b[0mself\u001b[0m\u001b[0;34m,\u001b[0m\u001b[0mn\u001b[0m\u001b[0;34m,\u001b[0m\u001b[0mrate\u001b[0m\u001b[0;34m=\u001b[0m\u001b[0;36m0\u001b[0m\u001b[0;34m)\u001b[0m\u001b[0;34m:\u001b[0m\u001b[0;34m\u001b[0m\u001b[0;34m\u001b[0m\u001b[0m\n\u001b[0;32m---> 18\u001b[0;31m     \u001b[0mself\u001b[0m\u001b[0;34m.\u001b[0m\u001b[0mnae\u001b[0m\u001b[0;34m=\u001b[0m\u001b[0mn\u001b[0m\u001b[0;34m\u001b[0m\u001b[0;34m\u001b[0m\u001b[0m\n\u001b[0m\u001b[1;32m     19\u001b[0m     \u001b[0mself\u001b[0m\u001b[0;34m.\u001b[0m\u001b[0msuc_rate\u001b[0m\u001b[0;34m=\u001b[0m\u001b[0mrate\u001b[0m\u001b[0;34m\u001b[0m\u001b[0;34m\u001b[0m\u001b[0m\n\u001b[1;32m     20\u001b[0m     \u001b[0mAssassin\u001b[0m\u001b[0;34m.\u001b[0m\u001b[0mtotal\u001b[0m\u001b[0;34m+=\u001b[0m\u001b[0;36m1\u001b[0m\u001b[0;34m\u001b[0m\u001b[0;34m\u001b[0m\u001b[0m\n",
            "\u001b[0;31mAttributeError\u001b[0m: 'str' object has no attribute 'nae'"
          ]
        }
      ],
      "source": [
        "class Assassin:\n",
        "\n",
        "  total=0\n",
        "\n",
        "  def __init__(self,n,suc_rate):\n",
        "    self.nae=n\n",
        "    self.suc_rate=suc_rate\n",
        "    Assassin.total+=1\n",
        "\n",
        "  \n",
        "  def failurePercentage(self,n,rate):\n",
        "    self.nae=n\n",
        "    self.suc_rate=int(rate.replace(\"%\",\"\"))\n",
        "    Assassin.total+=1\n",
        "\n",
        "\n",
        "  def failureRate(self,n,rate=0):\n",
        "    self.nae=n\n",
        "    self.suc_rate=rate\n",
        "    Assassin.total+=1\n",
        "\n",
        "\n",
        "\n",
        "  def printDetails(self):\n",
        "    print(\"Name:\",self.nae)\n",
        "    print(\"Success rate:\", self.suc_rate,\"%\")\n",
        "    print(\"Total number of Assassin:\",Assassin.total)\n",
        "\n",
        "\n",
        "\n",
        "john_wick = Assassin('John Wick', 100) \n",
        "john_wick.printDetails() \n",
        "print('================================')\n",
        "nagisa = Assassin.failureRate('Nagisa',20) \n",
        "nagisa.printDetails() \n",
        "print('================================') \n",
        "akabane = Assassin.failurePercentage(\"Akabane\", \"10%\") \n",
        "akabane.printDetails()"
      ]
    },
    {
      "cell_type": "markdown",
      "source": [
        "Task 3<br>\n",
        "Implement the design of the Passenger class so that the following output is produced:\n",
        "The assumption is Bus base-fare is 450 taka. A passenger can carry upto 20 kg for free. 50 taka will be added if bag weight is between 21 and 50 kg. 100 taka will be added if bag weight is greater than 50 kg."
      ],
      "metadata": {
        "id": "oVuBDDrXG7VY"
      }
    },
    {
      "cell_type": "code",
      "source": [
        "class Passenger:\n",
        "\n",
        "  total=0\n",
        "\n",
        "\n",
        "  def __init__(self,name):\n",
        "    self.name=name\n",
        "    Passenger.total=0\n",
        "  \n",
        "  def set_bag_weight(self,weight):\n",
        "    self.bag_weight=weight\n",
        "  \n",
        "  def count(self):\n",
        "    return Passenger.total\n",
        "\n",
        "  \n",
        "\n",
        "  \n",
        "\n",
        "\n",
        "\n",
        "\n",
        "\n",
        "\n",
        "\n",
        "\n",
        "\n",
        "\n",
        "\n",
        "\n",
        "\n",
        "print(\"Total Passenger:\", Passenger.count) \n",
        "'''p1 = Passenger(“Jack”) \n",
        "p1.set_bag_weight(90)\n",
        "p2 = Passenger(“Carol”) \n",
        "p2.set_bag_weight(10)\n",
        "p3 = Passenger(“Mike”) \n",
        "p3.set_bag_weight(25) \n",
        "print(\"=========================\") \n",
        "p1.printDetail() \n",
        "print(\"=========================\") \n",
        "p2.printDetail() \n",
        "print(\"=========================\") \n",
        "p3.printDetail() \n",
        "print(\"=========================\") \n",
        "print(“Total Passenger:”, Passenger.count)'''"
      ],
      "metadata": {
        "id": "4y7Hrlq_G4mP"
      },
      "execution_count": null,
      "outputs": []
    }
  ]
}