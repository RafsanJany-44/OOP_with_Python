{
  "nbformat": 4,
  "nbformat_minor": 0,
  "metadata": {
    "colab": {
      "name": "Bracu_02042022_tracing_assignment6.ipynb",
      "provenance": [],
      "authorship_tag": "ABX9TyMV6383i3+at1XwbHU8PNWr",
      "include_colab_link": true
    },
    "kernelspec": {
      "name": "python3",
      "display_name": "Python 3"
    },
    "language_info": {
      "name": "python"
    }
  },
  "cells": [
    {
      "cell_type": "markdown",
      "metadata": {
        "id": "view-in-github",
        "colab_type": "text"
      },
      "source": [
        "<a href=\"https://colab.research.google.com/github/RafsanJany-44/OOP_with_Python/blob/master/Bracu_02042022_tracing_assignment6.ipynb\" target=\"_parent\"><img src=\"https://colab.research.google.com/assets/colab-badge.svg\" alt=\"Open In Colab\"/></a>"
      ]
    },
    {
      "cell_type": "markdown",
      "source": [
        "Task 2\n",
        "Write the Assassin class so that the given code provides the expected output.\n",
        "1. Create Assassin class\n",
        "2. Create 1 class variable\n",
        "3. Create1classmethodtitled‘failureRate()’\n",
        "4. Create1classmethodtitled‘failurePercentage()’\n",
        "5. Maximum success_rate is 100"
      ],
      "metadata": {
        "id": "z2bMXcnHDJPC"
      }
    },
    {
      "cell_type": "code",
      "execution_count": null,
      "metadata": {
        "id": "bTMunA9CC9fI"
      },
      "outputs": [],
      "source": [
        "class Assassin:\n",
        "\n",
        "  total=0\n",
        "\n",
        "  def __init__(self,name,suc_rate):\n",
        "    self.name=name\n",
        "    self.suc_rate=suc_rate\n",
        "    Assassin.total+=1\n",
        "\n",
        "  \n",
        "  def failurePercentage(self,name,rate):\n",
        "    self.name=name\n",
        "    self.suc_rate=int(rate.replace(\"%\",\"\"))\n",
        "\n",
        "\n",
        "\n",
        "  def printDetails(self):\n",
        "    print(\"Name:\",self,name)\n",
        "    print(\"Success rate:\", self.suc_rate,\"%\")\n",
        "    print(\"Total number of Assassin:\",Assassin.tota)\n",
        "    print(\"============================\")\n",
        "\n",
        "\n",
        "\n",
        "\n",
        "john_wick = Assassin('John Wick', 100) \n",
        "john_wick.printDetails() \n",
        "print('================================')\n",
        "nagisa = Assassin.failureRate(\"Nagisa\", 20) \n",
        "nagisa.printDetails() \n",
        "print('================================') \n",
        "akabane = Assassin.failurePercentage(\"Akabane\", \"10%\") \n",
        "akabane.printDetails()"
      ]
    }
  ]
}