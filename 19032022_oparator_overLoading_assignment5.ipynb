{
  "nbformat": 4,
  "nbformat_minor": 0,
  "metadata": {
    "colab": {
      "name": "19032022.ipynb",
      "provenance": []
    },
    "kernelspec": {
      "name": "python3",
      "display_name": "Python 3"
    },
    "language_info": {
      "name": "python"
    }
  },
  "cells": [
    {
      "cell_type": "markdown",
      "source": [
        "#Task1"
      ],
      "metadata": {
        "id": "pqPO-90ThKmD"
      }
    },
    {
      "cell_type": "code",
      "source": [
        "class Marks:\n",
        "  def __init__(self,mark):\n",
        "    self.mark=mark\n",
        "  def __add__(self,other):\n",
        "    return Marks(self.mark+other.mark)\n",
        "\n",
        "Q1 = Marks(int(input(\"Quiz 1 (out of 10): \")))\n",
        "Q2 = Marks(int(input(\"Quiz 2 (out of 10): \")))\n",
        "Lab = Marks(int(input(\"Lab (out of 30): \")))\n",
        "Mid = Marks(int(input(\"Mid (out of 20): \")))\n",
        "Final = Marks(int(input(\"Final (out of 30): \")))\n",
        "total = Q1 + Q2 + Lab + Mid + Final\n",
        "print(\"Total marks: {}\".format(total.mark))"
      ],
      "metadata": {
        "colab": {
          "base_uri": "https://localhost:8080/"
        },
        "id": "qWGdyZLeblJ3",
        "outputId": "1efd05b5-7320-48fd-89d5-0561c16917ab"
      },
      "execution_count": null,
      "outputs": [
        {
          "output_type": "stream",
          "name": "stdout",
          "text": [
            "Quiz 1 (out of 10): 10\n",
            "Quiz 2 (out of 10): 10\n",
            "Lab (out of 30): 0\n",
            "Mid (out of 20): 00\n",
            "Final (out of 30): 010\n",
            "Total marks: 30\n"
          ]
        }
      ]
    },
    {
      "cell_type": "markdown",
      "source": [
        "#Task 2\n"
      ],
      "metadata": {
        "id": "ndndj-77nJ8d"
      }
    },
    {
      "cell_type": "code",
      "source": [
        "class Teacher:\n",
        "  def __init__(self, name,dept):\n",
        "    self.__name = name\n",
        "    self.__dept = dept\n",
        "    self.__courses=[]\n",
        "  \n",
        "  def addCourse(self,course):\n",
        "    self.__courses.append(course)\n",
        "  def printDetail(self):\n",
        "    print(\"=====================================\")\n",
        "    print(\"Name:\",self.__name)\n",
        "    print(\"Department:\",self.__dept)\n",
        "    print(\"List of courses\")\n",
        "    print(\"=====================================\")\n",
        "    for i in self.__courses:\n",
        "      print(i.name)\n",
        "    print(\"=====================================\")\n",
        "\n",
        "class Course:\n",
        "  def __init__(self,name):\n",
        "    self.name=name\n",
        "\n",
        "\n",
        "\n",
        "t1 = Teacher(\"Saad Abdullah\", \"CSE\")\n",
        "t2 = Teacher(\"Mumit Khan\", \"CSE\")\n",
        "t3 = Teacher(\"Sadia Kazi\", \"CSE\")\n",
        "c1 = Course(\"CSE 110 Programming Language I\")\n",
        "c2 = Course(\"CSE 111 Programming Language-II\")\n",
        "c3 = Course(\"CSE 220 Data Structures\")\n",
        "c4 = Course(\"CSE 221 Algorithms\")\n",
        "c5 = Course(\"CCSE 230 Discrete Mathematics\")\n",
        "c6 = Course(\"CSE 310 Object Oriented Programming\")\n",
        "c7 = Course(\"CSE 320 Data Communications\")\n",
        "c8 = Course(\"CSE 340 Computer Architecture\")\n",
        "t1.addCourse(c1)\n",
        "t1.addCourse(c2)\n",
        "t2.addCourse(c3)\n",
        "t2.addCourse(c4)\n",
        "t2.addCourse(c5)\n",
        "t3.addCourse(c6)\n",
        "t3.addCourse(c7)\n",
        "t3.addCourse(c8)\n",
        "t1.printDetail()\n",
        "t2.printDetail()\n",
        "t3.printDetail()"
      ],
      "metadata": {
        "id": "Bfwv0zwylimv",
        "colab": {
          "base_uri": "https://localhost:8080/"
        },
        "outputId": "9b55c3fb-8b10-4887-c4f4-d70e7836c9a7"
      },
      "execution_count": null,
      "outputs": [
        {
          "output_type": "stream",
          "name": "stdout",
          "text": [
            "=====================================\n",
            "Name: Saad Abdullah\n",
            "Department: CSE\n",
            "List of courses\n",
            "=====================================\n",
            "CSE 110 Programming Language I\n",
            "CSE 111 Programming Language-II\n",
            "=====================================\n",
            "=====================================\n",
            "Name: Mumit Khan\n",
            "Department: CSE\n",
            "List of courses\n",
            "=====================================\n",
            "CSE 220 Data Structures\n",
            "CSE 221 Algorithms\n",
            "CCSE 230 Discrete Mathematics\n",
            "=====================================\n",
            "=====================================\n",
            "Name: Sadia Kazi\n",
            "Department: CSE\n",
            "List of courses\n",
            "=====================================\n",
            "CSE 310 Object Oriented Programming\n",
            "CSE 320 Data Communications\n",
            "CSE 340 Computer Architecture\n",
            "=====================================\n"
          ]
        }
      ]
    },
    {
      "cell_type": "markdown",
      "source": [
        "#TASK 3"
      ],
      "metadata": {
        "id": "JH1jtYYCSCYX"
      }
    },
    {
      "cell_type": "code",
      "source": [
        ""
      ],
      "metadata": {
        "id": "vZAHn5dbXQiq"
      },
      "execution_count": null,
      "outputs": []
    },
    {
      "cell_type": "code",
      "source": [
        "class Team:\n",
        "  def __init__(self,*args):\n",
        "    self.__pname=[]\n",
        "    self.__prname=[]\n",
        "    if len(args)==1:\n",
        "      self.__cname=args[0]\n",
        "    else:\n",
        "      self.__cname=''\n",
        "\n",
        "\n",
        "  def setName(self,name):\n",
        "    self.__cname=name\n",
        "  \n",
        "  def addPlayer(self,player):\n",
        "    self.__pname.append(player)\n",
        "  \n",
        "  def printDetail(self):\n",
        "    for i in self.__pname:\n",
        "      self.__prname.append(i.name)\n",
        "    print(\"=====================\")\n",
        "    print(\"Team:\",self.__cname)\n",
        "    print(\"List of Players:\")\n",
        "    print(self.__prname)\n",
        "    print(\"=====================\")\n",
        "\n",
        "class Player:\n",
        "  def __init__(self,name):\n",
        "    self.name=name\n",
        "\n",
        "\n",
        "b = Team()\n",
        "b.setName('Bangladesh')\n",
        "mashrafi = Player(\"Mashrafi\")\n",
        "b.addPlayer(mashrafi)\n",
        "tamim = Player(\"Tamim\")\n",
        "b.addPlayer(tamim)\n",
        "b.printDetail()\n",
        "a = Team(\"Australia\")\n",
        "ponting = Player(\"Ponting\")\n",
        "a.addPlayer(ponting)\n",
        "lee = Player(\"Lee\")\n",
        "a.addPlayer(lee)\n",
        "a.printDetail()"
      ],
      "metadata": {
        "colab": {
          "base_uri": "https://localhost:8080/"
        },
        "id": "nZmBG8gPPEoQ",
        "outputId": "bbd23c5d-220a-4767-daf0-0fb1a539bdd7"
      },
      "execution_count": null,
      "outputs": [
        {
          "output_type": "stream",
          "name": "stdout",
          "text": [
            "=====================\n",
            "Team: Bangladesh\n",
            "List of Players:\n",
            "['Mashrafi', 'Tamim']\n",
            "=====================\n",
            "=====================\n",
            "Team: Australia\n",
            "List of Players:\n",
            "['Ponting', 'Lee']\n",
            "=====================\n"
          ]
        }
      ]
    },
    {
      "cell_type": "markdown",
      "source": [
        "#Task 4"
      ],
      "metadata": {
        "id": "AFG17IWNOHUf"
      }
    },
    {
      "cell_type": "code",
      "source": [
        "class Color:\n",
        "  def __init__(self,clr):\n",
        "    li=[\"red\",\"blue\",\"yellow\"]\n",
        "    if clr in li:\n",
        "      self.clr=clr\n",
        "    else:\n",
        "      if clr==\"redblue\" or clr==\"bluered\":\n",
        "        self.clr=\"Violet\"\n",
        "      elif clr==\"yellowblue\" or clr==\"blueyellow\":\n",
        "        self.clr=\"Green\"\n",
        "      elif clr==\"redyellow\" or clr==\"yellowred\":\n",
        "        self.clr=\"Orange\"\n",
        "  def __add__(self,other):\n",
        "    return Color(self.clr+other.clr)\n",
        "  \n",
        "\n",
        "C1 = Color(input(\"First Color: \").lower())\n",
        "C2 = Color(input(\"Second Color: \").lower())\n",
        "C3 = C1 + C2\n",
        "print(\"Color formed:\", C3.clr)"
      ],
      "metadata": {
        "colab": {
          "base_uri": "https://localhost:8080/"
        },
        "id": "wy5L014xOGXF",
        "outputId": "2a1555d8-4dbe-4693-e9d2-2bce41f3d666"
      },
      "execution_count": null,
      "outputs": [
        {
          "output_type": "stream",
          "name": "stdout",
          "text": [
            "First Color: red\n",
            "Second Color: blue\n",
            "Color formed: Violet\n"
          ]
        }
      ]
    },
    {
      "cell_type": "markdown",
      "source": [
        "#Task5"
      ],
      "metadata": {
        "id": "oE8PHcmFZ2Xx"
      }
    },
    {
      "cell_type": "code",
      "source": [
        "class Circle:\n",
        "  def __init__(self,radius):\n",
        "    self.__radius=radius\n",
        "  \n",
        "  def setRadius(self,radius):\n",
        "    self.__radius=radius\n",
        "  \n",
        "  def getRadius(self):\n",
        "    return self.__radius\n",
        "\n",
        "  def area(self):\n",
        "    return self.__radius*self.__radius*3.1416\n",
        "\n",
        "  def __add__(self,o):\n",
        "    return Circle(self.__radius+o._Circle__radius)\n",
        "\n",
        "c1 = Circle(4)\n",
        "print(\"First circle radius:\" , c1.getRadius())\n",
        "print(\"First circle area:\" ,c1.area())\n",
        "c2 = Circle(5)\n",
        "print(\"Second circle radius:\" ,c2.getRadius())\n",
        "print(\"Second circle area:\" ,c2.area())\n",
        "c3 = c1 + c2\n",
        "print(\"Third circle radius:\" ,c3.getRadius())\n",
        "print(\"Third circle area:\" ,c3.area())\n"
      ],
      "metadata": {
        "colab": {
          "base_uri": "https://localhost:8080/"
        },
        "id": "hRWrgMCjZ7Ga",
        "outputId": "6c97a691-4d98-49f1-9d58-60af3ea5df7a"
      },
      "execution_count": null,
      "outputs": [
        {
          "output_type": "stream",
          "name": "stdout",
          "text": [
            "First circle radius: 4\n",
            "First circle area: 50.2656\n",
            "Second circle radius: 5\n",
            "Second circle area: 78.53999999999999\n",
            "Third circle radius: 9\n",
            "Third circle area: 254.46959999999999\n"
          ]
        }
      ]
    },
    {
      "cell_type": "markdown",
      "source": [
        "#Task 6\n"
      ],
      "metadata": {
        "id": "-UAbB_Qfe_ss"
      }
    },
    {
      "cell_type": "code",
      "source": [
        "class Triangle:\n",
        "  def __init__(self,base,height):\n",
        "    self.__base=base\n",
        "    self.__height=height\n",
        "\n",
        "  def setBase(self,base):\n",
        "    self.__base=base\n",
        "  \n",
        "  def getBase(self):\n",
        "    return self.__base\n",
        "\n",
        "  def setHeight(self,height):\n",
        "    self.__height=height\n",
        "\n",
        "  def getHeight(self):\n",
        "    return self.__height\n",
        "\n",
        "  def area(self):\n",
        "    return 0.5*self.__base*self.__height\n",
        "\n",
        "  def __sub__(self,o):\n",
        "    return Triangle(self.__base-o._Triangle__base,self.__height-o._Triangle__height)\n",
        "\n",
        "t1 = Triangle(10, 5)\n",
        "print(\"First Triangle Base:\" , t1.getBase())\n",
        "print(\"First Triangle Height:\" , t1.getHeight())\n",
        "print(\"First Triangle area:\" ,t1.area())\n",
        "t2 = Triangle(5, 3)\n",
        "print(\"Second Triangle Base:\" , t2.getBase())\n",
        "print(\"Second Triangle Height:\" , t2.getHeight())\n",
        "print(\"Second Triangle area:\" ,t2.area())\n",
        "t3 = t1 - t2\n",
        "print(\"Third Triangle Base:\" , t3.getBase())\n",
        "print(\"Third Triangle Height:\" , t3.getHeight())\n",
        "print(\"Third Triangle area:\" ,t3.area()) "
      ],
      "metadata": {
        "colab": {
          "base_uri": "https://localhost:8080/"
        },
        "id": "l4LZFjJvfBey",
        "outputId": "5412e843-e416-42cf-8f99-3106950f09cb"
      },
      "execution_count": null,
      "outputs": [
        {
          "output_type": "stream",
          "name": "stdout",
          "text": [
            "First Triangle Base: 10\n",
            "First Triangle Height: 5\n",
            "First Triangle area: 25.0\n",
            "Second Triangle Base: 5\n",
            "Second Triangle Height: 3\n",
            "Second Triangle area: 7.5\n",
            "Third Triangle Base: 5\n",
            "Third Triangle Height: 2\n",
            "Third Triangle area: 5.0\n"
          ]
        }
      ]
    },
    {
      "cell_type": "markdown",
      "source": [
        "#Task 7"
      ],
      "metadata": {
        "id": "2otLow5qhYCF"
      }
    },
    {
      "cell_type": "code",
      "source": [
        "class Dolls:\n",
        "  def __init__(self,name,price):\n",
        "    self.__price=price\n",
        "    self.__name=name\n",
        "\n",
        "  def setPrice(self,price):\n",
        "    self.__price=price\n",
        "  def getPrice(self):\n",
        "    return self.__price\n",
        "  def setName(self,name):\n",
        "    self.__name=name\n",
        "  def getName(self):\n",
        "    return self.__name\n",
        "  \n",
        "  def __gt__(self,o):\n",
        "    if self.__price>o._Dolls__price:\n",
        "      return True\n",
        "    else:\n",
        "      return False\n",
        "  \n",
        "  def __add__(self,o):\n",
        "    return Dolls(self.__name+o._Dolls__name,self.__price+o._Dolls__price)\n",
        "  \n",
        "  def detail(self):\n",
        "    return \"Doll:\"+self.__name+\"\\n\"+\"Price:\"+str(self.__price)\n",
        "\n",
        "\n",
        "obj_1 = Dolls(\"Tweety\", 2500)\n",
        "print(obj_1.detail())\n",
        "if obj_1 > obj_1:\n",
        " print(\"Congratulations! You get the Tweety as a gift!\")\n",
        "else:\n",
        " print(\"Thank you!\")\n",
        "print(\"=========================\")\n",
        "obj_2 = Dolls(\"Daffy Duck\", 1800)\n",
        "print(obj_2.detail())\n",
        "if obj_2 > obj_1:\n",
        " print(\"Congratulations! You get the Tweety as a gift!\")\n",
        "else:\n",
        " print(\"Thank you!\")\n",
        "print(\"=========================\")\n",
        "obj_3 = Dolls(\"Bugs Bunny\", 3000)\n",
        "print(obj_3.detail())\n",
        "if obj_3 > obj_1:\n",
        " print(\"Congratulations! You get the Tweety as a gift!\")\n",
        "else:\n",
        " print(\"Thank you!\")\n",
        "print(\"=========================\")\n",
        "obj_4 = Dolls(\"Porky Pig\", 1500)\n",
        "print(obj_4.detail())\n",
        "if obj_4 > obj_1:\n",
        " print(\"Congratulations! You get the Tweety as a gift!\")\n",
        "else:\n",
        " print(\"Thank you!\")\n",
        "print(\"=========================\")\n",
        "obj_5 = obj_2 + obj_3\n",
        "print(obj_5.detail())\n",
        "if obj_5 > obj_1:\n",
        " print(\"Congratulations! You get the Tweety as a gift!\")\n",
        "else:\n",
        " print(\"Thank you!\")\n",
        "  \n",
        "  \n",
        "  \n",
        "  \n"
      ],
      "metadata": {
        "colab": {
          "base_uri": "https://localhost:8080/"
        },
        "id": "5WpQmf8Jhi2S",
        "outputId": "6a06211c-9c23-44f8-e1ef-69e9d0c1a789"
      },
      "execution_count": null,
      "outputs": [
        {
          "output_type": "stream",
          "name": "stdout",
          "text": [
            "Doll:Tweety\n",
            "Price:2500\n",
            "Thank you!\n",
            "=========================\n",
            "Doll:Daffy Duck\n",
            "Price:1800\n",
            "Thank you!\n",
            "=========================\n",
            "Doll:Bugs Bunny\n",
            "Price:3000\n",
            "Congratulations! You get the Tweety as a gift!\n",
            "=========================\n",
            "Doll:Porky Pig\n",
            "Price:1500\n",
            "Thank you!\n",
            "=========================\n",
            "Doll:Daffy DuckBugs Bunny\n",
            "Price:4800\n",
            "Congratulations! You get the Tweety as a gift!\n"
          ]
        }
      ]
    },
    {
      "cell_type": "markdown",
      "source": [
        "#Task 8\n"
      ],
      "metadata": {
        "id": "lUWI_68V9o15"
      }
    },
    {
      "cell_type": "code",
      "source": [
        "class Coordinates:\n",
        "  def __init__(self,x,y):\n",
        "    self.__x=x\n",
        "    self.__y=y\n",
        "\n",
        "  def __sub__(self,o):\n",
        "    self.__subOb=Coordinates(self.__x-o._Coordinates__x,self.__y-o._Coordinates__y)\n",
        "    return self.__subOb\n",
        "    \n",
        "  def __mul__(self,o):\n",
        "    self.__mulOb=Coordinates(self.__x*o._Coordinates__x,self.__y*o._Coordinates__y)\n",
        "    return self.__mulOb\n",
        "\n",
        "  def __eq__(self,o):\n",
        "    if self.__x==o._Coordinates__x and self.__y==o._Coordinates__y:\n",
        "      return (\"The calculated coordinates are the same.\")\n",
        "    else:\n",
        "      return (\"The calculated coordinates are NOT the same.\")\n",
        "  \n",
        "    \n",
        "  \n",
        "  def detail(self):\n",
        "    return \"(\"+str(self.__x)+\",\"+str(self.__y)+\")\"\n",
        "\n",
        "p1 = Coordinates(int(input()),int(input()))\n",
        "p2 = Coordinates(int(input()),int(input()))\n",
        "p4 = p1 - p2\n",
        "print(p4.detail())\n",
        "p5 = p1 * p2\n",
        "print(p5.detail())\n",
        "\n",
        "\n",
        "point_check = (p4 == p5)\n",
        "print(point_check)\n"
      ],
      "metadata": {
        "id": "FvUMkKxg9olP",
        "outputId": "bbdf5a92-1d2d-4633-eda4-e8b416a2e591",
        "colab": {
          "base_uri": "https://localhost:8080/"
        }
      },
      "execution_count": null,
      "outputs": [
        {
          "output_type": "stream",
          "name": "stdout",
          "text": [
            "1\n",
            "2\n",
            "3\n",
            "4\n",
            "(-2,-2)\n",
            "(3,8)\n",
            "The calculated coordinates are NOT the same.\n"
          ]
        }
      ]
    },
    {
      "cell_type": "markdown",
      "source": [
        "#Task 9"
      ],
      "metadata": {
        "id": "UgDqY6-Uvuod"
      }
    },
    {
      "cell_type": "code",
      "source": [
        "class Test:\n",
        "  def __init__(self):\n",
        "    self.sum = 0\n",
        "    self.y = 0\n",
        "  def methodA(self):\n",
        "    x=0\n",
        "    y =0\n",
        "    y = y + 7\n",
        "    x = y + 11\n",
        "    self.sum = x + y\n",
        "    print(x , y, self.sum)\n",
        "  def methodB(self):\n",
        "    x = 0\n",
        "    self.y = self.y + 11\n",
        "    x = x + 33 + self.y\n",
        "    self.sum = self.sum + x + self.y\n",
        "    print(x , self.y, self.sum)\n",
        "print(\"x y SUM\")\n",
        "t1 = Test()\n",
        "t1.methodA()\n",
        "t1.methodA()\n",
        "t1.methodB()\n",
        "t1.methodB()\n",
        "t1.methodB()"
      ],
      "metadata": {
        "id": "VzaK1naOmOgr",
        "colab": {
          "base_uri": "https://localhost:8080/"
        },
        "outputId": "a85f66c6-c8a8-41b6-8bfd-67ef43c9966e"
      },
      "execution_count": null,
      "outputs": [
        {
          "output_type": "stream",
          "name": "stdout",
          "text": [
            "x y SUM\n",
            "18 7 25\n",
            "18 7 25\n",
            "44 11 80\n",
            "55 22 157\n",
            "66 33 256\n"
          ]
        }
      ]
    },
    {
      "cell_type": "markdown",
      "source": [
        "#Task 10"
      ],
      "metadata": {
        "id": "7OWv0linwbYo"
      }
    },
    {
      "cell_type": "code",
      "source": [
        "class Test3:\n",
        "  def __init__(self):\n",
        "    self.sum, self.y = 0, 0\n",
        "  def methodA(self):\n",
        "    x, y = 2, 3\n",
        "    msg = [0]\n",
        "    msg[0] = 3\n",
        "    y = self.y + msg[0]\n",
        "    self.methodB(msg, msg[0])\n",
        "    x = self.y + msg[0]\n",
        "    self.sum = x + y + msg[0]\n",
        "    print(x, y, self.sum)\n",
        "  def methodB(self, mg2: list, mg1: int):\n",
        "    x = 0\n",
        "    self.y = self.y + mg2[0]\n",
        "    x = x + 33 + mg1\n",
        "    self.sum = self.sum + x + self.y\n",
        "    mg2[0] = self.y + mg1\n",
        "    mg1 = mg1 + x + 2\n",
        "    print(x, self.y, self.sum)\n",
        "\n",
        "print(\"x y SUM\")\n",
        "t3 = Test3()\n",
        "t3.methodA()\n",
        "t3.methodA()\n",
        "t3.methodA()\n",
        "t3.methodA()\n",
        "t3.methodA()"
      ],
      "metadata": {
        "colab": {
          "base_uri": "https://localhost:8080/"
        },
        "id": "rlnxehPWwA8o",
        "outputId": "ded6da10-6b2f-49f3-ed38-91bd945f90eb"
      },
      "execution_count": null,
      "outputs": [
        {
          "output_type": "stream",
          "name": "stdout",
          "text": [
            "x y SUM\n",
            "36 3 39\n",
            "9 3 18\n",
            "36 6 60\n",
            "15 6 30\n",
            "36 9 75\n",
            "21 9 42\n",
            "36 12 90\n",
            "27 12 54\n",
            "36 15 105\n",
            "33 15 66\n"
          ]
        }
      ]
    },
    {
      "cell_type": "markdown",
      "source": [
        "#11\n"
      ],
      "metadata": {
        "id": "2S8Zh7eow4ZC"
      }
    },
    {
      "cell_type": "code",
      "source": [
        "class Test4:\n",
        "  def __init__(self):\n",
        "    self.sum, self.y = 0, 0\n",
        "  def methodA(self):\n",
        "    x, y = 0, 0\n",
        "    msg = [0]\n",
        "    msg[0] = 5\n",
        "    y = y + self.methodB(msg[0])\n",
        "    x = y + self.methodB(msg, msg[0])\n",
        "    self.sum = x + y + msg[0]\n",
        "    print(x, y, self.sum)\n",
        "\n",
        "  def methodB(self, *args):\n",
        "    if len(args) == 1:\n",
        "      mg1 = args[0]\n",
        "      x = 0\n",
        "      y = 0\n",
        "      y = y + mg1\n",
        "      x = x + 33 + mg1\n",
        "      self.sum = self.sum + x + y\n",
        "      self.y = mg1 + x + 2\n",
        "      print(x, y, self.sum)\n",
        "      return y\n",
        "    else:\n",
        "      mg2, mg1 = args\n",
        "      x = 0\n",
        "      self.y = self.y + mg2[0]\n",
        "      x = x + 33 + mg1\n",
        "      self.sum = self.sum + x + self.y\n",
        "      mg2[0] = self.y + mg1\n",
        "      mg1 = mg1 + x + 2\n",
        "      print(x, self.y, self.sum)\n",
        "      return self.sum\n",
        "print(\"x y SUM\")\n",
        "t3 = Test3()\n",
        "t3.methodA()\n",
        "t3.methodA()\n",
        "t3.methodA()\n",
        "t3.methodA()\n",
        "t3.methodA()"
      ],
      "metadata": {
        "colab": {
          "base_uri": "https://localhost:8080/"
        },
        "id": "g1QFpYPmw6iy",
        "outputId": "e3c68040-5b81-4339-a27f-f969b15d3303"
      },
      "execution_count": null,
      "outputs": [
        {
          "output_type": "stream",
          "name": "stdout",
          "text": [
            "x y SUM\n",
            "36 3 39\n",
            "9 3 18\n",
            "36 6 60\n",
            "15 6 30\n",
            "36 9 75\n",
            "21 9 42\n",
            "36 12 90\n",
            "27 12 54\n",
            "36 15 105\n",
            "33 15 66\n"
          ]
        }
      ]
    },
    {
      "cell_type": "code",
      "source": [
        "class Student:\n",
        "  def __init__(self,name,dept,age,cg):\n",
        "    self.name=name\n",
        "    self.dept=dept\n",
        "    self.age=age\n",
        "    self.cg=cg\n",
        "\n",
        "  def from_String(self,info):\n",
        "    l=info.split(\"-\")\n",
        "    self.name=l[0]\n",
        "    self.dept=l[1]\n",
        "    self.age=l[2]\n",
        "    self.cg=l[3]\n",
        "\n",
        "  def get_details(self):\n",
        "    print(\"Name:\",self.name)\n",
        "    print(\"Department:\",self.dept)\n",
        "    print(\"Age:\",self.age)\n",
        "    print(\"CGPA:\",self.cg)\n"
      ],
      "metadata": {
        "id": "ntPTJ4jyE7lq"
      },
      "execution_count": null,
      "outputs": []
    },
    {
      "cell_type": "code",
      "source": [
        "class Test3:\n",
        "  def __init__(self):\n",
        "    self.sum, self.y = 0, 0\n",
        "  def methodA(self):\n",
        "    x, y = 2, 3\n",
        "    msg = [0]\n",
        "    msg[0] = 3\n",
        "    y = self.y + msg[0]\n",
        "    self.methodB(msg, msg[0])\n",
        "    x = self.y + msg[0]\n",
        "    self.sum = x + y + msg[0]\n",
        "    print(x, y, self.sum)\n",
        "  def methodB(self, mg2: list, mg1: int):\n",
        "    x = 0\n",
        "    self.y = self.y + mg2[0]\n",
        "    x = x + 33 + mg1\n",
        "    self.sum = self.sum + x + self.y\n",
        "    mg2[0] = self.y + mg1\n",
        "    mg1 = mg1 + x + 2\n",
        "    print(x, self.y, self.sum)\n",
        "\n",
        "print(\"x y SUM\")\n",
        "t3 = Test3()\n",
        "t3.methodA()\n",
        "t3.methodA()\n",
        "t3.methodA()\n",
        "t3.methodA()\n",
        "t3.methodA()"
      ],
      "metadata": {
        "id": "LG8tCZyZ_2Z_",
        "outputId": "ec977672-2da3-4624-efa0-1eab4b55dfca",
        "colab": {
          "base_uri": "https://localhost:8080/"
        }
      },
      "execution_count": null,
      "outputs": [
        {
          "output_type": "stream",
          "name": "stdout",
          "text": [
            "x y SUM\n",
            "36 3 39\n",
            "9 3 18\n",
            "36 6 60\n",
            "15 6 30\n",
            "36 9 75\n",
            "21 9 42\n",
            "36 12 90\n",
            "27 12 54\n",
            "36 15 105\n",
            "33 15 66\n"
          ]
        }
      ]
    }
  ]
}